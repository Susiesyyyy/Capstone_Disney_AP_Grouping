{
 "cells": [
  {
   "cell_type": "code",
   "execution_count": 1,
   "id": "f6b444c1",
   "metadata": {},
   "outputs": [],
   "source": [
    "import pandas as pd\n",
    "\n",
    "pd.options.display.max_rows = 50\n",
    "pd.options.display.max_columns = 500\n"
   ]
  },
  {
   "cell_type": "code",
   "execution_count": 3,
   "id": "45c77caa",
   "metadata": {},
   "outputs": [],
   "source": [
    "Expired = pd.read_csv('AP Expired_20211101_20220131.csv')\n",
    "#active\n",
    "FnB = pd.read_csv('AP FnB_20201101_20211031.csv')\n",
    "#FnB\n",
    "Merch = pd.read_csv('AP Merch_20201101_20211031.csv')\n",
    "#Merch\n",
    "\n",
    "s_lapsed = pd.read_csv('AP survey lapsed_20211108_20220207.csv')\n",
    "#s_lapsed\n",
    "s_qg = pd.read_csv('AP survey QG_20201101_20211031.csv')\n",
    "#s_qg\n",
    "s_renew = pd.read_csv('AP survey renew_20201101_20211031.csv')\n",
    "#s_renew\n",
    "s_wel = pd.read_csv('AP survey Welcome_20201101_20211031.csv')\n",
    "#s_wel\n",
    "\n",
    "visit_1 = pd.read_csv('AP Visitation_20201101_20211031.csv')\n",
    "#visit_1"
   ]
  },
  {
   "cell_type": "markdown",
   "id": "e3a49c33",
   "metadata": {},
   "source": [
    "# wechat-binding grouping"
   ]
  },
  {
   "cell_type": "code",
   "execution_count": 5,
   "id": "6091e6c9",
   "metadata": {},
   "outputs": [],
   "source": [
    "wechat_group = Expired.groupby('binding_wechat_open_id_num')['source_id'].apply(list)\n",
    "wechat_group = wechat_group[wechat_group.str.len() > 1][wechat_group.str.len() < 10].reset_index(drop=True)\n",
    "wechat_group = wechat_group.to_list()#.to_csv('wechat_group.csv')"
   ]
  },
  {
   "cell_type": "code",
   "execution_count": 16,
   "id": "4c582799",
   "metadata": {},
   "outputs": [
    {
     "data": {
      "text/html": [
       "<div>\n",
       "<style scoped>\n",
       "    .dataframe tbody tr th:only-of-type {\n",
       "        vertical-align: middle;\n",
       "    }\n",
       "\n",
       "    .dataframe tbody tr th {\n",
       "        vertical-align: top;\n",
       "    }\n",
       "\n",
       "    .dataframe thead th {\n",
       "        text-align: right;\n",
       "    }\n",
       "</style>\n",
       "<table border=\"1\" class=\"dataframe\">\n",
       "  <thead>\n",
       "    <tr style=\"text-align: right;\">\n",
       "      <th></th>\n",
       "      <th>source_id</th>\n",
       "    </tr>\n",
       "  </thead>\n",
       "  <tbody>\n",
       "    <tr>\n",
       "      <th>0</th>\n",
       "      <td>259183,53500</td>\n",
       "    </tr>\n",
       "    <tr>\n",
       "      <th>1</th>\n",
       "      <td>251084,251079</td>\n",
       "    </tr>\n",
       "    <tr>\n",
       "      <th>2</th>\n",
       "      <td>284757,277972</td>\n",
       "    </tr>\n",
       "    <tr>\n",
       "      <th>3</th>\n",
       "      <td>272049,272048</td>\n",
       "    </tr>\n",
       "    <tr>\n",
       "      <th>4</th>\n",
       "      <td>299998,299999</td>\n",
       "    </tr>\n",
       "    <tr>\n",
       "      <th>...</th>\n",
       "      <td>...</td>\n",
       "    </tr>\n",
       "    <tr>\n",
       "      <th>563</th>\n",
       "      <td>264780,264778</td>\n",
       "    </tr>\n",
       "    <tr>\n",
       "      <th>564</th>\n",
       "      <td>291134,291135,291136</td>\n",
       "    </tr>\n",
       "    <tr>\n",
       "      <th>565</th>\n",
       "      <td>284855,284853</td>\n",
       "    </tr>\n",
       "    <tr>\n",
       "      <th>566</th>\n",
       "      <td>288076,288077</td>\n",
       "    </tr>\n",
       "    <tr>\n",
       "      <th>567</th>\n",
       "      <td>259122,259121</td>\n",
       "    </tr>\n",
       "  </tbody>\n",
       "</table>\n",
       "<p>568 rows × 1 columns</p>\n",
       "</div>"
      ],
      "text/plain": [
       "                source_id\n",
       "0            259183,53500\n",
       "1           251084,251079\n",
       "2           284757,277972\n",
       "3           272049,272048\n",
       "4           299998,299999\n",
       "..                    ...\n",
       "563         264780,264778\n",
       "564  291134,291135,291136\n",
       "565         284855,284853\n",
       "566         288076,288077\n",
       "567         259122,259121\n",
       "\n",
       "[568 rows x 1 columns]"
      ]
     },
     "execution_count": 16,
     "metadata": {},
     "output_type": "execute_result"
    }
   ],
   "source": [
    "group_df = pd.DataFrame(wechat_group)\n",
    "\n",
    "group_df[0] = group_df[0].apply(lambda x: None if pd.isnull(x) else '{0:.0f}'.format(pd.to_numeric(x)))\n",
    "group_df[1] = group_df[1].apply(lambda x: None if pd.isnull(x) else '{0:.0f}'.format(pd.to_numeric(x)))\n",
    "group_df[2] = group_df[2].apply(lambda x: None if pd.isnull(x) else '{0:.0f}'.format(pd.to_numeric(x)))\n",
    "group_df[3] = group_df[3].apply(lambda x: None if pd.isnull(x) else '{0:.0f}'.format(pd.to_numeric(x)))\n",
    "\n",
    "group_df['source_id'] = group_df[group_df.columns[0:5]].apply(\n",
    "    lambda x: ','.join(x.dropna().astype(str)),\n",
    "    axis=1)\n",
    "group_df_1 = group_df[['source_id']]\n",
    "group_df_1"
   ]
  },
  {
   "cell_type": "markdown",
   "id": "c965b3e9",
   "metadata": {},
   "source": [
    "# Child List in Survey"
   ]
  },
  {
   "cell_type": "code",
   "execution_count": 18,
   "id": "d5765662",
   "metadata": {},
   "outputs": [
    {
     "data": {
      "text/html": [
       "<div>\n",
       "<style scoped>\n",
       "    .dataframe tbody tr th:only-of-type {\n",
       "        vertical-align: middle;\n",
       "    }\n",
       "\n",
       "    .dataframe tbody tr th {\n",
       "        vertical-align: top;\n",
       "    }\n",
       "\n",
       "    .dataframe thead th {\n",
       "        text-align: right;\n",
       "    }\n",
       "</style>\n",
       "<table border=\"1\" class=\"dataframe\">\n",
       "  <thead>\n",
       "    <tr style=\"text-align: right;\">\n",
       "      <th></th>\n",
       "      <th>source_id</th>\n",
       "      <th>Kids</th>\n",
       "    </tr>\n",
       "  </thead>\n",
       "  <tbody>\n",
       "    <tr>\n",
       "      <th>0</th>\n",
       "      <td>265579</td>\n",
       "      <td>1.0</td>\n",
       "    </tr>\n",
       "    <tr>\n",
       "      <th>1</th>\n",
       "      <td>272821</td>\n",
       "      <td>2.0</td>\n",
       "    </tr>\n",
       "    <tr>\n",
       "      <th>3</th>\n",
       "      <td>277626</td>\n",
       "      <td>1.0</td>\n",
       "    </tr>\n",
       "    <tr>\n",
       "      <th>7</th>\n",
       "      <td>250965</td>\n",
       "      <td>1.0</td>\n",
       "    </tr>\n",
       "    <tr>\n",
       "      <th>9</th>\n",
       "      <td>249325</td>\n",
       "      <td>2.0</td>\n",
       "    </tr>\n",
       "    <tr>\n",
       "      <th>...</th>\n",
       "      <td>...</td>\n",
       "      <td>...</td>\n",
       "    </tr>\n",
       "    <tr>\n",
       "      <th>1174</th>\n",
       "      <td>290052</td>\n",
       "      <td>1.0</td>\n",
       "    </tr>\n",
       "    <tr>\n",
       "      <th>1181</th>\n",
       "      <td>282065</td>\n",
       "      <td>1.0</td>\n",
       "    </tr>\n",
       "    <tr>\n",
       "      <th>1185</th>\n",
       "      <td>280147</td>\n",
       "      <td>2.0</td>\n",
       "    </tr>\n",
       "    <tr>\n",
       "      <th>1195</th>\n",
       "      <td>282853</td>\n",
       "      <td>1.0</td>\n",
       "    </tr>\n",
       "    <tr>\n",
       "      <th>1196</th>\n",
       "      <td>263405</td>\n",
       "      <td>3.0</td>\n",
       "    </tr>\n",
       "  </tbody>\n",
       "</table>\n",
       "<p>1597 rows × 2 columns</p>\n",
       "</div>"
      ],
      "text/plain": [
       "      source_id  Kids\n",
       "0        265579   1.0\n",
       "1        272821   2.0\n",
       "3        277626   1.0\n",
       "7        250965   1.0\n",
       "9        249325   2.0\n",
       "...         ...   ...\n",
       "1174     290052   1.0\n",
       "1181     282065   1.0\n",
       "1185     280147   2.0\n",
       "1195     282853   1.0\n",
       "1196     263405   3.0\n",
       "\n",
       "[1597 rows x 2 columns]"
      ]
     },
     "execution_count": 18,
     "metadata": {},
     "output_type": "execute_result"
    }
   ],
   "source": [
    "child_lapsed= s_lapsed.loc[s_lapsed['kid'] == 1]\n",
    "child_lapsed = child_lapsed[['SOURCE_ID','Kids']]\n",
    "child_lapsed.rename(columns={'SOURCE_ID':'source_id'},inplace = True)\n",
    "\n",
    "child_qg = s_qg.loc[s_qg['kid'] == 1]\n",
    "child_qg = child_qg[['source_id','Kids']]\n",
    "\n",
    "child_renew = s_renew.loc[s_renew['kid'] == 1]\n",
    "child_renew = child_renew[['source_id','Kids']]\n",
    "\n",
    "child_wel = s_wel.loc[s_wel['kid'] == 1]\n",
    "child_wel = child_wel[['source_id','Kids']]\n",
    "\n",
    "child_final = pd.concat([child_lapsed,child_qg,child_renew,child_wel])\n",
    "\n",
    "child_f = child_final.drop_duplicates()\n",
    "child_f"
   ]
  },
  {
   "cell_type": "code",
   "execution_count": 19,
   "id": "8c3ffca5",
   "metadata": {},
   "outputs": [
    {
     "data": {
      "text/plain": [
       "1.0    1307\n",
       "2.0     275\n",
       "3.0      14\n",
       "4.0       1\n",
       "Name: Kids, dtype: int64"
      ]
     },
     "execution_count": 19,
     "metadata": {},
     "output_type": "execute_result"
    }
   ],
   "source": [
    "child_f['Kids'].value_counts()"
   ]
  },
  {
   "cell_type": "code",
   "execution_count": 20,
   "id": "de9d6c8a",
   "metadata": {},
   "outputs": [],
   "source": [
    "new_child_final_list = child_f.to_csv('new_child_final_list.csv')"
   ]
  }
 ],
 "metadata": {
  "kernelspec": {
   "display_name": "Python 3",
   "language": "python",
   "name": "python3"
  },
  "language_info": {
   "codemirror_mode": {
    "name": "ipython",
    "version": 3
   },
   "file_extension": ".py",
   "mimetype": "text/x-python",
   "name": "python",
   "nbconvert_exporter": "python",
   "pygments_lexer": "ipython3",
   "version": "3.8.8"
  }
 },
 "nbformat": 4,
 "nbformat_minor": 5
}
