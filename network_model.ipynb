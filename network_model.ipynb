{
  "nbformat": 4,
  "nbformat_minor": 0,
  "metadata": {
    "colab": {
      "name": "network_model.ipynb",
      "provenance": [],
      "collapsed_sections": []
    },
    "kernelspec": {
      "name": "python3",
      "display_name": "Python 3"
    },
    "language_info": {
      "name": "python"
    }
  },
  "cells": [
    {
      "cell_type": "code",
      "execution_count": null,
      "metadata": {
        "id": "K9wlrWAZI4PY"
      },
      "outputs": [],
      "source": [
        "import pandas as pd\n",
        "import networkx as nx\n",
        "import numpy as np\n",
        "import itertools\n",
        "import re\n",
        "import matplotlib.pyplot as plt\n",
        "import collections"
      ]
    },
    {
      "cell_type": "code",
      "source": [
        "import base64\n",
        "import requests"
      ],
      "metadata": {
        "id": "yvNjM6vFOPs3"
      },
      "execution_count": null,
      "outputs": []
    },
    {
      "cell_type": "markdown",
      "source": [
        "load the data"
      ],
      "metadata": {
        "id": "snf20urhuPnS"
      }
    },
    {
      "cell_type": "code",
      "source": [
        "header_url = 'https://raw.githubusercontent.com/Susiesyyyy/Capstone_Disney_AP_Grouping/main/AP%20Visitation%20header_by%20day.txt'\n",
        "visitation_url = 'https://raw.githubusercontent.com/Susiesyyyy/Capstone_Disney_AP_Grouping/main/AP%20Visitation_20201101_20211031_by%20day.csv'"
      ],
      "metadata": {
        "id": "Q6Rg-99JJKzT"
      },
      "execution_count": null,
      "outputs": []
    },
    {
      "cell_type": "code",
      "source": [
        "req = requests.get(header_url)\n",
        "req = req.text"
      ],
      "metadata": {
        "id": "4cBZM4cOOTJV"
      },
      "execution_count": null,
      "outputs": []
    },
    {
      "cell_type": "code",
      "source": [
        "header = req.split(\"\\r\")\n",
        "header = header[0].split(\"\\t\")"
      ],
      "metadata": {
        "id": "sZWLgP-GOrnC"
      },
      "execution_count": null,
      "outputs": []
    },
    {
      "cell_type": "code",
      "source": [
        "visit_df = pd.read_csv(visitation_url, sep=',', header=None)\n",
        "visit_df.columns = header\n",
        "visit_df.head()"
      ],
      "metadata": {
        "colab": {
          "base_uri": "https://localhost:8080/",
          "height": 206
        },
        "id": "FIEPLPEpSUJx",
        "outputId": "00b16c44-e2b3-4451-dc06-28611ef35da9"
      },
      "execution_count": null,
      "outputs": [
        {
          "output_type": "execute_result",
          "data": {
            "text/plain": [
              "   source_id Passtype    Age MerchSpendLevel  is_renewal  \\\n",
              "0       5361     Gold  Adult             <1K           0   \n",
              "1       6604     Gold  Adult             >1K           0   \n",
              "2       6604     Gold  Adult             >1K           0   \n",
              "3       6604     Gold  Adult             >1K           0   \n",
              "4       6604     Gold  Adult             >1K           0   \n",
              "\n",
              "                  use_time  \n",
              "0  2020-11-06 12:01:37.917  \n",
              "1  2020-12-11 17:05:15.397  \n",
              "2  2021-01-03 10:44:05.687  \n",
              "3  2021-01-13 11:47:10.623  \n",
              "4  2021-01-28 10:22:03.467  "
            ],
            "text/html": [
              "\n",
              "  <div id=\"df-e8ac0856-d58c-418f-819c-af310674ae26\">\n",
              "    <div class=\"colab-df-container\">\n",
              "      <div>\n",
              "<style scoped>\n",
              "    .dataframe tbody tr th:only-of-type {\n",
              "        vertical-align: middle;\n",
              "    }\n",
              "\n",
              "    .dataframe tbody tr th {\n",
              "        vertical-align: top;\n",
              "    }\n",
              "\n",
              "    .dataframe thead th {\n",
              "        text-align: right;\n",
              "    }\n",
              "</style>\n",
              "<table border=\"1\" class=\"dataframe\">\n",
              "  <thead>\n",
              "    <tr style=\"text-align: right;\">\n",
              "      <th></th>\n",
              "      <th>source_id</th>\n",
              "      <th>Passtype</th>\n",
              "      <th>Age</th>\n",
              "      <th>MerchSpendLevel</th>\n",
              "      <th>is_renewal</th>\n",
              "      <th>use_time</th>\n",
              "    </tr>\n",
              "  </thead>\n",
              "  <tbody>\n",
              "    <tr>\n",
              "      <th>0</th>\n",
              "      <td>5361</td>\n",
              "      <td>Gold</td>\n",
              "      <td>Adult</td>\n",
              "      <td>&lt;1K</td>\n",
              "      <td>0</td>\n",
              "      <td>2020-11-06 12:01:37.917</td>\n",
              "    </tr>\n",
              "    <tr>\n",
              "      <th>1</th>\n",
              "      <td>6604</td>\n",
              "      <td>Gold</td>\n",
              "      <td>Adult</td>\n",
              "      <td>&gt;1K</td>\n",
              "      <td>0</td>\n",
              "      <td>2020-12-11 17:05:15.397</td>\n",
              "    </tr>\n",
              "    <tr>\n",
              "      <th>2</th>\n",
              "      <td>6604</td>\n",
              "      <td>Gold</td>\n",
              "      <td>Adult</td>\n",
              "      <td>&gt;1K</td>\n",
              "      <td>0</td>\n",
              "      <td>2021-01-03 10:44:05.687</td>\n",
              "    </tr>\n",
              "    <tr>\n",
              "      <th>3</th>\n",
              "      <td>6604</td>\n",
              "      <td>Gold</td>\n",
              "      <td>Adult</td>\n",
              "      <td>&gt;1K</td>\n",
              "      <td>0</td>\n",
              "      <td>2021-01-13 11:47:10.623</td>\n",
              "    </tr>\n",
              "    <tr>\n",
              "      <th>4</th>\n",
              "      <td>6604</td>\n",
              "      <td>Gold</td>\n",
              "      <td>Adult</td>\n",
              "      <td>&gt;1K</td>\n",
              "      <td>0</td>\n",
              "      <td>2021-01-28 10:22:03.467</td>\n",
              "    </tr>\n",
              "  </tbody>\n",
              "</table>\n",
              "</div>\n",
              "      <button class=\"colab-df-convert\" onclick=\"convertToInteractive('df-e8ac0856-d58c-418f-819c-af310674ae26')\"\n",
              "              title=\"Convert this dataframe to an interactive table.\"\n",
              "              style=\"display:none;\">\n",
              "        \n",
              "  <svg xmlns=\"http://www.w3.org/2000/svg\" height=\"24px\"viewBox=\"0 0 24 24\"\n",
              "       width=\"24px\">\n",
              "    <path d=\"M0 0h24v24H0V0z\" fill=\"none\"/>\n",
              "    <path d=\"M18.56 5.44l.94 2.06.94-2.06 2.06-.94-2.06-.94-.94-2.06-.94 2.06-2.06.94zm-11 1L8.5 8.5l.94-2.06 2.06-.94-2.06-.94L8.5 2.5l-.94 2.06-2.06.94zm10 10l.94 2.06.94-2.06 2.06-.94-2.06-.94-.94-2.06-.94 2.06-2.06.94z\"/><path d=\"M17.41 7.96l-1.37-1.37c-.4-.4-.92-.59-1.43-.59-.52 0-1.04.2-1.43.59L10.3 9.45l-7.72 7.72c-.78.78-.78 2.05 0 2.83L4 21.41c.39.39.9.59 1.41.59.51 0 1.02-.2 1.41-.59l7.78-7.78 2.81-2.81c.8-.78.8-2.07 0-2.86zM5.41 20L4 18.59l7.72-7.72 1.47 1.35L5.41 20z\"/>\n",
              "  </svg>\n",
              "      </button>\n",
              "      \n",
              "  <style>\n",
              "    .colab-df-container {\n",
              "      display:flex;\n",
              "      flex-wrap:wrap;\n",
              "      gap: 12px;\n",
              "    }\n",
              "\n",
              "    .colab-df-convert {\n",
              "      background-color: #E8F0FE;\n",
              "      border: none;\n",
              "      border-radius: 50%;\n",
              "      cursor: pointer;\n",
              "      display: none;\n",
              "      fill: #1967D2;\n",
              "      height: 32px;\n",
              "      padding: 0 0 0 0;\n",
              "      width: 32px;\n",
              "    }\n",
              "\n",
              "    .colab-df-convert:hover {\n",
              "      background-color: #E2EBFA;\n",
              "      box-shadow: 0px 1px 2px rgba(60, 64, 67, 0.3), 0px 1px 3px 1px rgba(60, 64, 67, 0.15);\n",
              "      fill: #174EA6;\n",
              "    }\n",
              "\n",
              "    [theme=dark] .colab-df-convert {\n",
              "      background-color: #3B4455;\n",
              "      fill: #D2E3FC;\n",
              "    }\n",
              "\n",
              "    [theme=dark] .colab-df-convert:hover {\n",
              "      background-color: #434B5C;\n",
              "      box-shadow: 0px 1px 3px 1px rgba(0, 0, 0, 0.15);\n",
              "      filter: drop-shadow(0px 1px 2px rgba(0, 0, 0, 0.3));\n",
              "      fill: #FFFFFF;\n",
              "    }\n",
              "  </style>\n",
              "\n",
              "      <script>\n",
              "        const buttonEl =\n",
              "          document.querySelector('#df-e8ac0856-d58c-418f-819c-af310674ae26 button.colab-df-convert');\n",
              "        buttonEl.style.display =\n",
              "          google.colab.kernel.accessAllowed ? 'block' : 'none';\n",
              "\n",
              "        async function convertToInteractive(key) {\n",
              "          const element = document.querySelector('#df-e8ac0856-d58c-418f-819c-af310674ae26');\n",
              "          const dataTable =\n",
              "            await google.colab.kernel.invokeFunction('convertToInteractive',\n",
              "                                                     [key], {});\n",
              "          if (!dataTable) return;\n",
              "\n",
              "          const docLinkHtml = 'Like what you see? Visit the ' +\n",
              "            '<a target=\"_blank\" href=https://colab.research.google.com/notebooks/data_table.ipynb>data table notebook</a>'\n",
              "            + ' to learn more about interactive tables.';\n",
              "          element.innerHTML = '';\n",
              "          dataTable['output_type'] = 'display_data';\n",
              "          await google.colab.output.renderOutput(dataTable, element);\n",
              "          const docLink = document.createElement('div');\n",
              "          docLink.innerHTML = docLinkHtml;\n",
              "          element.appendChild(docLink);\n",
              "        }\n",
              "      </script>\n",
              "    </div>\n",
              "  </div>\n",
              "  "
            ]
          },
          "metadata": {},
          "execution_count": 12
        }
      ]
    },
    {
      "cell_type": "code",
      "source": [
        "visit_df.shape"
      ],
      "metadata": {
        "colab": {
          "base_uri": "https://localhost:8080/"
        },
        "id": "TObgM8C-Mm0D",
        "outputId": "d84d00fc-d1e3-4e69-a441-5eca0f664cf9"
      },
      "execution_count": null,
      "outputs": [
        {
          "output_type": "execute_result",
          "data": {
            "text/plain": [
              "(92564, 6)"
            ]
          },
          "metadata": {},
          "execution_count": 7
        }
      ]
    },
    {
      "cell_type": "code",
      "source": [
        "visit_time = visit_df[['source_id','use_time']]"
      ],
      "metadata": {
        "id": "fKck2H32N--N"
      },
      "execution_count": null,
      "outputs": []
    },
    {
      "cell_type": "code",
      "source": [
        "# visit_time['year1'] = visit_time['year'].astype(str)\n",
        "# visit_time['month1'] = visit_time['month'].astype(str)\n",
        "# visit_time['time'] = visit_time['year1'] + visit_time['month1']\n",
        "# visit_time = visit_time.drop(['year','year1','month','month1'],axis=1)"
      ],
      "metadata": {
        "id": "mBeYVb3ePU5n"
      },
      "execution_count": null,
      "outputs": []
    },
    {
      "cell_type": "markdown",
      "source": [
        "Make the visit time to visit hour"
      ],
      "metadata": {
        "id": "9xD4kKZduVnS"
      }
    },
    {
      "cell_type": "code",
      "source": [
        "visit_time['use_hour'] = visit_time['use_time'].apply(lambda x: x[:13])"
      ],
      "metadata": {
        "colab": {
          "base_uri": "https://localhost:8080/"
        },
        "id": "plXGN5qNLf7U",
        "outputId": "3a26b1ac-216a-4634-aa1a-7d345df63b79"
      },
      "execution_count": null,
      "outputs": [
        {
          "output_type": "stream",
          "name": "stderr",
          "text": [
            "/usr/local/lib/python3.7/dist-packages/ipykernel_launcher.py:1: SettingWithCopyWarning: \n",
            "A value is trying to be set on a copy of a slice from a DataFrame.\n",
            "Try using .loc[row_indexer,col_indexer] = value instead\n",
            "\n",
            "See the caveats in the documentation: https://pandas.pydata.org/pandas-docs/stable/user_guide/indexing.html#returning-a-view-versus-a-copy\n",
            "  \"\"\"Entry point for launching an IPython kernel.\n"
          ]
        }
      ]
    },
    {
      "cell_type": "code",
      "source": [
        "visit_time"
      ],
      "metadata": {
        "colab": {
          "base_uri": "https://localhost:8080/",
          "height": 423
        },
        "id": "OoHtf4KSPWt4",
        "outputId": "66fdc351-4b6e-4aae-c4e5-2cf2f6ccec5c"
      },
      "execution_count": null,
      "outputs": [
        {
          "output_type": "execute_result",
          "data": {
            "text/plain": [
              "       source_id                 use_time       use_hour\n",
              "0           5361  2020-11-06 12:01:37.917  2020-11-06 12\n",
              "1           6604  2020-12-11 17:05:15.397  2020-12-11 17\n",
              "2           6604  2021-01-03 10:44:05.687  2021-01-03 10\n",
              "3           6604  2021-01-13 11:47:10.623  2021-01-13 11\n",
              "4           6604  2021-01-28 10:22:03.467  2021-01-28 10\n",
              "...          ...                      ...            ...\n",
              "92559     354954  2020-11-01 11:50:25.353  2020-11-01 11\n",
              "92560     354954  2021-02-21 14:15:52.797  2021-02-21 14\n",
              "92561     354954  2021-06-20 14:54:30.807  2021-06-20 14\n",
              "92562     354954  2021-08-27 15:11:45.997  2021-08-27 15\n",
              "92563     354954  2021-10-01 14:45:55.023  2021-10-01 14\n",
              "\n",
              "[92564 rows x 3 columns]"
            ],
            "text/html": [
              "\n",
              "  <div id=\"df-2c37241a-4f19-4ff3-8292-b8536c7868e6\">\n",
              "    <div class=\"colab-df-container\">\n",
              "      <div>\n",
              "<style scoped>\n",
              "    .dataframe tbody tr th:only-of-type {\n",
              "        vertical-align: middle;\n",
              "    }\n",
              "\n",
              "    .dataframe tbody tr th {\n",
              "        vertical-align: top;\n",
              "    }\n",
              "\n",
              "    .dataframe thead th {\n",
              "        text-align: right;\n",
              "    }\n",
              "</style>\n",
              "<table border=\"1\" class=\"dataframe\">\n",
              "  <thead>\n",
              "    <tr style=\"text-align: right;\">\n",
              "      <th></th>\n",
              "      <th>source_id</th>\n",
              "      <th>use_time</th>\n",
              "      <th>use_hour</th>\n",
              "    </tr>\n",
              "  </thead>\n",
              "  <tbody>\n",
              "    <tr>\n",
              "      <th>0</th>\n",
              "      <td>5361</td>\n",
              "      <td>2020-11-06 12:01:37.917</td>\n",
              "      <td>2020-11-06 12</td>\n",
              "    </tr>\n",
              "    <tr>\n",
              "      <th>1</th>\n",
              "      <td>6604</td>\n",
              "      <td>2020-12-11 17:05:15.397</td>\n",
              "      <td>2020-12-11 17</td>\n",
              "    </tr>\n",
              "    <tr>\n",
              "      <th>2</th>\n",
              "      <td>6604</td>\n",
              "      <td>2021-01-03 10:44:05.687</td>\n",
              "      <td>2021-01-03 10</td>\n",
              "    </tr>\n",
              "    <tr>\n",
              "      <th>3</th>\n",
              "      <td>6604</td>\n",
              "      <td>2021-01-13 11:47:10.623</td>\n",
              "      <td>2021-01-13 11</td>\n",
              "    </tr>\n",
              "    <tr>\n",
              "      <th>4</th>\n",
              "      <td>6604</td>\n",
              "      <td>2021-01-28 10:22:03.467</td>\n",
              "      <td>2021-01-28 10</td>\n",
              "    </tr>\n",
              "    <tr>\n",
              "      <th>...</th>\n",
              "      <td>...</td>\n",
              "      <td>...</td>\n",
              "      <td>...</td>\n",
              "    </tr>\n",
              "    <tr>\n",
              "      <th>92559</th>\n",
              "      <td>354954</td>\n",
              "      <td>2020-11-01 11:50:25.353</td>\n",
              "      <td>2020-11-01 11</td>\n",
              "    </tr>\n",
              "    <tr>\n",
              "      <th>92560</th>\n",
              "      <td>354954</td>\n",
              "      <td>2021-02-21 14:15:52.797</td>\n",
              "      <td>2021-02-21 14</td>\n",
              "    </tr>\n",
              "    <tr>\n",
              "      <th>92561</th>\n",
              "      <td>354954</td>\n",
              "      <td>2021-06-20 14:54:30.807</td>\n",
              "      <td>2021-06-20 14</td>\n",
              "    </tr>\n",
              "    <tr>\n",
              "      <th>92562</th>\n",
              "      <td>354954</td>\n",
              "      <td>2021-08-27 15:11:45.997</td>\n",
              "      <td>2021-08-27 15</td>\n",
              "    </tr>\n",
              "    <tr>\n",
              "      <th>92563</th>\n",
              "      <td>354954</td>\n",
              "      <td>2021-10-01 14:45:55.023</td>\n",
              "      <td>2021-10-01 14</td>\n",
              "    </tr>\n",
              "  </tbody>\n",
              "</table>\n",
              "<p>92564 rows × 3 columns</p>\n",
              "</div>\n",
              "      <button class=\"colab-df-convert\" onclick=\"convertToInteractive('df-2c37241a-4f19-4ff3-8292-b8536c7868e6')\"\n",
              "              title=\"Convert this dataframe to an interactive table.\"\n",
              "              style=\"display:none;\">\n",
              "        \n",
              "  <svg xmlns=\"http://www.w3.org/2000/svg\" height=\"24px\"viewBox=\"0 0 24 24\"\n",
              "       width=\"24px\">\n",
              "    <path d=\"M0 0h24v24H0V0z\" fill=\"none\"/>\n",
              "    <path d=\"M18.56 5.44l.94 2.06.94-2.06 2.06-.94-2.06-.94-.94-2.06-.94 2.06-2.06.94zm-11 1L8.5 8.5l.94-2.06 2.06-.94-2.06-.94L8.5 2.5l-.94 2.06-2.06.94zm10 10l.94 2.06.94-2.06 2.06-.94-2.06-.94-.94-2.06-.94 2.06-2.06.94z\"/><path d=\"M17.41 7.96l-1.37-1.37c-.4-.4-.92-.59-1.43-.59-.52 0-1.04.2-1.43.59L10.3 9.45l-7.72 7.72c-.78.78-.78 2.05 0 2.83L4 21.41c.39.39.9.59 1.41.59.51 0 1.02-.2 1.41-.59l7.78-7.78 2.81-2.81c.8-.78.8-2.07 0-2.86zM5.41 20L4 18.59l7.72-7.72 1.47 1.35L5.41 20z\"/>\n",
              "  </svg>\n",
              "      </button>\n",
              "      \n",
              "  <style>\n",
              "    .colab-df-container {\n",
              "      display:flex;\n",
              "      flex-wrap:wrap;\n",
              "      gap: 12px;\n",
              "    }\n",
              "\n",
              "    .colab-df-convert {\n",
              "      background-color: #E8F0FE;\n",
              "      border: none;\n",
              "      border-radius: 50%;\n",
              "      cursor: pointer;\n",
              "      display: none;\n",
              "      fill: #1967D2;\n",
              "      height: 32px;\n",
              "      padding: 0 0 0 0;\n",
              "      width: 32px;\n",
              "    }\n",
              "\n",
              "    .colab-df-convert:hover {\n",
              "      background-color: #E2EBFA;\n",
              "      box-shadow: 0px 1px 2px rgba(60, 64, 67, 0.3), 0px 1px 3px 1px rgba(60, 64, 67, 0.15);\n",
              "      fill: #174EA6;\n",
              "    }\n",
              "\n",
              "    [theme=dark] .colab-df-convert {\n",
              "      background-color: #3B4455;\n",
              "      fill: #D2E3FC;\n",
              "    }\n",
              "\n",
              "    [theme=dark] .colab-df-convert:hover {\n",
              "      background-color: #434B5C;\n",
              "      box-shadow: 0px 1px 3px 1px rgba(0, 0, 0, 0.15);\n",
              "      filter: drop-shadow(0px 1px 2px rgba(0, 0, 0, 0.3));\n",
              "      fill: #FFFFFF;\n",
              "    }\n",
              "  </style>\n",
              "\n",
              "      <script>\n",
              "        const buttonEl =\n",
              "          document.querySelector('#df-2c37241a-4f19-4ff3-8292-b8536c7868e6 button.colab-df-convert');\n",
              "        buttonEl.style.display =\n",
              "          google.colab.kernel.accessAllowed ? 'block' : 'none';\n",
              "\n",
              "        async function convertToInteractive(key) {\n",
              "          const element = document.querySelector('#df-2c37241a-4f19-4ff3-8292-b8536c7868e6');\n",
              "          const dataTable =\n",
              "            await google.colab.kernel.invokeFunction('convertToInteractive',\n",
              "                                                     [key], {});\n",
              "          if (!dataTable) return;\n",
              "\n",
              "          const docLinkHtml = 'Like what you see? Visit the ' +\n",
              "            '<a target=\"_blank\" href=https://colab.research.google.com/notebooks/data_table.ipynb>data table notebook</a>'\n",
              "            + ' to learn more about interactive tables.';\n",
              "          element.innerHTML = '';\n",
              "          dataTable['output_type'] = 'display_data';\n",
              "          await google.colab.output.renderOutput(dataTable, element);\n",
              "          const docLink = document.createElement('div');\n",
              "          docLink.innerHTML = docLinkHtml;\n",
              "          element.appendChild(docLink);\n",
              "        }\n",
              "      </script>\n",
              "    </div>\n",
              "  </div>\n",
              "  "
            ]
          },
          "metadata": {},
          "execution_count": 10
        }
      ]
    },
    {
      "cell_type": "markdown",
      "source": [
        "Load the testing data (WeChat grouping result)"
      ],
      "metadata": {
        "id": "c_T4DALtuaN-"
      }
    },
    {
      "cell_type": "code",
      "source": [
        "wechat_group = 'https://raw.githubusercontent.com/Susiesyyyy/Capstone_Disney_AP_Grouping/main/wechat_group.csv'\n",
        "testing_data = pd.read_csv(wechat_group,header=None)"
      ],
      "metadata": {
        "id": "4g55Dw67xz6_"
      },
      "execution_count": null,
      "outputs": []
    },
    {
      "cell_type": "code",
      "source": [
        "testing_data.head()"
      ],
      "metadata": {
        "colab": {
          "base_uri": "https://localhost:8080/",
          "height": 206
        },
        "id": "mEA6EW2jyOdl",
        "outputId": "eec0c7eb-761f-4aaa-aff4-5c11503df5d5"
      },
      "execution_count": null,
      "outputs": [
        {
          "output_type": "execute_result",
          "data": {
            "text/plain": [
              "        0       1   2   3\n",
              "0  259183   53500 NaN NaN\n",
              "1  251084  251079 NaN NaN\n",
              "2  284757  277972 NaN NaN\n",
              "3  272049  272048 NaN NaN\n",
              "4  299998  299999 NaN NaN"
            ],
            "text/html": [
              "\n",
              "  <div id=\"df-2dbfdeec-c7b4-4c01-8eb4-79faffcc4d66\">\n",
              "    <div class=\"colab-df-container\">\n",
              "      <div>\n",
              "<style scoped>\n",
              "    .dataframe tbody tr th:only-of-type {\n",
              "        vertical-align: middle;\n",
              "    }\n",
              "\n",
              "    .dataframe tbody tr th {\n",
              "        vertical-align: top;\n",
              "    }\n",
              "\n",
              "    .dataframe thead th {\n",
              "        text-align: right;\n",
              "    }\n",
              "</style>\n",
              "<table border=\"1\" class=\"dataframe\">\n",
              "  <thead>\n",
              "    <tr style=\"text-align: right;\">\n",
              "      <th></th>\n",
              "      <th>0</th>\n",
              "      <th>1</th>\n",
              "      <th>2</th>\n",
              "      <th>3</th>\n",
              "    </tr>\n",
              "  </thead>\n",
              "  <tbody>\n",
              "    <tr>\n",
              "      <th>0</th>\n",
              "      <td>259183</td>\n",
              "      <td>53500</td>\n",
              "      <td>NaN</td>\n",
              "      <td>NaN</td>\n",
              "    </tr>\n",
              "    <tr>\n",
              "      <th>1</th>\n",
              "      <td>251084</td>\n",
              "      <td>251079</td>\n",
              "      <td>NaN</td>\n",
              "      <td>NaN</td>\n",
              "    </tr>\n",
              "    <tr>\n",
              "      <th>2</th>\n",
              "      <td>284757</td>\n",
              "      <td>277972</td>\n",
              "      <td>NaN</td>\n",
              "      <td>NaN</td>\n",
              "    </tr>\n",
              "    <tr>\n",
              "      <th>3</th>\n",
              "      <td>272049</td>\n",
              "      <td>272048</td>\n",
              "      <td>NaN</td>\n",
              "      <td>NaN</td>\n",
              "    </tr>\n",
              "    <tr>\n",
              "      <th>4</th>\n",
              "      <td>299998</td>\n",
              "      <td>299999</td>\n",
              "      <td>NaN</td>\n",
              "      <td>NaN</td>\n",
              "    </tr>\n",
              "  </tbody>\n",
              "</table>\n",
              "</div>\n",
              "      <button class=\"colab-df-convert\" onclick=\"convertToInteractive('df-2dbfdeec-c7b4-4c01-8eb4-79faffcc4d66')\"\n",
              "              title=\"Convert this dataframe to an interactive table.\"\n",
              "              style=\"display:none;\">\n",
              "        \n",
              "  <svg xmlns=\"http://www.w3.org/2000/svg\" height=\"24px\"viewBox=\"0 0 24 24\"\n",
              "       width=\"24px\">\n",
              "    <path d=\"M0 0h24v24H0V0z\" fill=\"none\"/>\n",
              "    <path d=\"M18.56 5.44l.94 2.06.94-2.06 2.06-.94-2.06-.94-.94-2.06-.94 2.06-2.06.94zm-11 1L8.5 8.5l.94-2.06 2.06-.94-2.06-.94L8.5 2.5l-.94 2.06-2.06.94zm10 10l.94 2.06.94-2.06 2.06-.94-2.06-.94-.94-2.06-.94 2.06-2.06.94z\"/><path d=\"M17.41 7.96l-1.37-1.37c-.4-.4-.92-.59-1.43-.59-.52 0-1.04.2-1.43.59L10.3 9.45l-7.72 7.72c-.78.78-.78 2.05 0 2.83L4 21.41c.39.39.9.59 1.41.59.51 0 1.02-.2 1.41-.59l7.78-7.78 2.81-2.81c.8-.78.8-2.07 0-2.86zM5.41 20L4 18.59l7.72-7.72 1.47 1.35L5.41 20z\"/>\n",
              "  </svg>\n",
              "      </button>\n",
              "      \n",
              "  <style>\n",
              "    .colab-df-container {\n",
              "      display:flex;\n",
              "      flex-wrap:wrap;\n",
              "      gap: 12px;\n",
              "    }\n",
              "\n",
              "    .colab-df-convert {\n",
              "      background-color: #E8F0FE;\n",
              "      border: none;\n",
              "      border-radius: 50%;\n",
              "      cursor: pointer;\n",
              "      display: none;\n",
              "      fill: #1967D2;\n",
              "      height: 32px;\n",
              "      padding: 0 0 0 0;\n",
              "      width: 32px;\n",
              "    }\n",
              "\n",
              "    .colab-df-convert:hover {\n",
              "      background-color: #E2EBFA;\n",
              "      box-shadow: 0px 1px 2px rgba(60, 64, 67, 0.3), 0px 1px 3px 1px rgba(60, 64, 67, 0.15);\n",
              "      fill: #174EA6;\n",
              "    }\n",
              "\n",
              "    [theme=dark] .colab-df-convert {\n",
              "      background-color: #3B4455;\n",
              "      fill: #D2E3FC;\n",
              "    }\n",
              "\n",
              "    [theme=dark] .colab-df-convert:hover {\n",
              "      background-color: #434B5C;\n",
              "      box-shadow: 0px 1px 3px 1px rgba(0, 0, 0, 0.15);\n",
              "      filter: drop-shadow(0px 1px 2px rgba(0, 0, 0, 0.3));\n",
              "      fill: #FFFFFF;\n",
              "    }\n",
              "  </style>\n",
              "\n",
              "      <script>\n",
              "        const buttonEl =\n",
              "          document.querySelector('#df-2dbfdeec-c7b4-4c01-8eb4-79faffcc4d66 button.colab-df-convert');\n",
              "        buttonEl.style.display =\n",
              "          google.colab.kernel.accessAllowed ? 'block' : 'none';\n",
              "\n",
              "        async function convertToInteractive(key) {\n",
              "          const element = document.querySelector('#df-2dbfdeec-c7b4-4c01-8eb4-79faffcc4d66');\n",
              "          const dataTable =\n",
              "            await google.colab.kernel.invokeFunction('convertToInteractive',\n",
              "                                                     [key], {});\n",
              "          if (!dataTable) return;\n",
              "\n",
              "          const docLinkHtml = 'Like what you see? Visit the ' +\n",
              "            '<a target=\"_blank\" href=https://colab.research.google.com/notebooks/data_table.ipynb>data table notebook</a>'\n",
              "            + ' to learn more about interactive tables.';\n",
              "          element.innerHTML = '';\n",
              "          dataTable['output_type'] = 'display_data';\n",
              "          await google.colab.output.renderOutput(dataTable, element);\n",
              "          const docLink = document.createElement('div');\n",
              "          docLink.innerHTML = docLinkHtml;\n",
              "          element.appendChild(docLink);\n",
              "        }\n",
              "      </script>\n",
              "    </div>\n",
              "  </div>\n",
              "  "
            ]
          },
          "metadata": {},
          "execution_count": 12
        }
      ]
    },
    {
      "cell_type": "code",
      "source": [
        "testing_data.shape"
      ],
      "metadata": {
        "colab": {
          "base_uri": "https://localhost:8080/"
        },
        "id": "QqxG0M6Eyd29",
        "outputId": "dab40ef7-6149-490f-f7d1-62bb246aa87c"
      },
      "execution_count": null,
      "outputs": [
        {
          "output_type": "execute_result",
          "data": {
            "text/plain": [
              "(568, 4)"
            ]
          },
          "metadata": {},
          "execution_count": 13
        }
      ]
    },
    {
      "cell_type": "code",
      "source": [
        "visitation_id = list(np.unique(visit_time.source_id))\n",
        "testing_id = list(np.unique(testing_data))"
      ],
      "metadata": {
        "id": "zB0-zXnIRsUu"
      },
      "execution_count": null,
      "outputs": []
    },
    {
      "cell_type": "markdown",
      "source": [
        "Get the overlapped source_id"
      ],
      "metadata": {
        "id": "fFmoozReufmy"
      }
    },
    {
      "cell_type": "code",
      "source": [
        "overlap_id = [x for x in visitation_id + testing_id if x in visitation_id and x in testing_id]\n",
        "overlap_array = np.unique(np.array(overlap_id))\n",
        "overlap_list = list(overlap_array)"
      ],
      "metadata": {
        "id": "x_BqvuaESXUV"
      },
      "execution_count": null,
      "outputs": []
    },
    {
      "cell_type": "code",
      "source": [
        "# overlap_list"
      ],
      "metadata": {
        "id": "kKKeujPzShkX"
      },
      "execution_count": null,
      "outputs": []
    },
    {
      "cell_type": "code",
      "source": [
        "len(overlap_list)"
      ],
      "metadata": {
        "colab": {
          "base_uri": "https://localhost:8080/"
        },
        "id": "r_DpTPdYAK4I",
        "outputId": "da834d49-a477-4c47-c083-61f88ab6945d"
      },
      "execution_count": null,
      "outputs": [
        {
          "output_type": "execute_result",
          "data": {
            "text/plain": [
              "1167"
            ]
          },
          "metadata": {},
          "execution_count": 17
        }
      ]
    },
    {
      "cell_type": "code",
      "source": [
        "overlap_df = visit_time.loc[visit_time['source_id'].isin(overlap_list),]"
      ],
      "metadata": {
        "id": "4irByT48Z5VZ"
      },
      "execution_count": null,
      "outputs": []
    },
    {
      "cell_type": "code",
      "source": [
        "overlap_df"
      ],
      "metadata": {
        "colab": {
          "base_uri": "https://localhost:8080/",
          "height": 423
        },
        "id": "JKGgU-7alwT2",
        "outputId": "1b80f82a-8e1d-4df3-d2c4-b8537a1bd536"
      },
      "execution_count": null,
      "outputs": [
        {
          "output_type": "execute_result",
          "data": {
            "text/plain": [
              "       source_id                 use_time       use_hour\n",
              "96         18919  2020-11-01 13:50:38.513  2020-11-01 13\n",
              "97         18919  2021-01-28 14:47:41.943  2021-01-28 14\n",
              "98         18919  2021-02-07 15:41:50.020  2021-02-07 15\n",
              "99         18919  2021-08-30 13:38:26.233  2021-08-30 13\n",
              "100        18919  2021-09-03 17:46:51.713  2021-09-03 17\n",
              "...          ...                      ...            ...\n",
              "92559     354954  2020-11-01 11:50:25.353  2020-11-01 11\n",
              "92560     354954  2021-02-21 14:15:52.797  2021-02-21 14\n",
              "92561     354954  2021-06-20 14:54:30.807  2021-06-20 14\n",
              "92562     354954  2021-08-27 15:11:45.997  2021-08-27 15\n",
              "92563     354954  2021-10-01 14:45:55.023  2021-10-01 14\n",
              "\n",
              "[11576 rows x 3 columns]"
            ],
            "text/html": [
              "\n",
              "  <div id=\"df-1aaab768-5384-4c60-8ae2-682439402444\">\n",
              "    <div class=\"colab-df-container\">\n",
              "      <div>\n",
              "<style scoped>\n",
              "    .dataframe tbody tr th:only-of-type {\n",
              "        vertical-align: middle;\n",
              "    }\n",
              "\n",
              "    .dataframe tbody tr th {\n",
              "        vertical-align: top;\n",
              "    }\n",
              "\n",
              "    .dataframe thead th {\n",
              "        text-align: right;\n",
              "    }\n",
              "</style>\n",
              "<table border=\"1\" class=\"dataframe\">\n",
              "  <thead>\n",
              "    <tr style=\"text-align: right;\">\n",
              "      <th></th>\n",
              "      <th>source_id</th>\n",
              "      <th>use_time</th>\n",
              "      <th>use_hour</th>\n",
              "    </tr>\n",
              "  </thead>\n",
              "  <tbody>\n",
              "    <tr>\n",
              "      <th>96</th>\n",
              "      <td>18919</td>\n",
              "      <td>2020-11-01 13:50:38.513</td>\n",
              "      <td>2020-11-01 13</td>\n",
              "    </tr>\n",
              "    <tr>\n",
              "      <th>97</th>\n",
              "      <td>18919</td>\n",
              "      <td>2021-01-28 14:47:41.943</td>\n",
              "      <td>2021-01-28 14</td>\n",
              "    </tr>\n",
              "    <tr>\n",
              "      <th>98</th>\n",
              "      <td>18919</td>\n",
              "      <td>2021-02-07 15:41:50.020</td>\n",
              "      <td>2021-02-07 15</td>\n",
              "    </tr>\n",
              "    <tr>\n",
              "      <th>99</th>\n",
              "      <td>18919</td>\n",
              "      <td>2021-08-30 13:38:26.233</td>\n",
              "      <td>2021-08-30 13</td>\n",
              "    </tr>\n",
              "    <tr>\n",
              "      <th>100</th>\n",
              "      <td>18919</td>\n",
              "      <td>2021-09-03 17:46:51.713</td>\n",
              "      <td>2021-09-03 17</td>\n",
              "    </tr>\n",
              "    <tr>\n",
              "      <th>...</th>\n",
              "      <td>...</td>\n",
              "      <td>...</td>\n",
              "      <td>...</td>\n",
              "    </tr>\n",
              "    <tr>\n",
              "      <th>92559</th>\n",
              "      <td>354954</td>\n",
              "      <td>2020-11-01 11:50:25.353</td>\n",
              "      <td>2020-11-01 11</td>\n",
              "    </tr>\n",
              "    <tr>\n",
              "      <th>92560</th>\n",
              "      <td>354954</td>\n",
              "      <td>2021-02-21 14:15:52.797</td>\n",
              "      <td>2021-02-21 14</td>\n",
              "    </tr>\n",
              "    <tr>\n",
              "      <th>92561</th>\n",
              "      <td>354954</td>\n",
              "      <td>2021-06-20 14:54:30.807</td>\n",
              "      <td>2021-06-20 14</td>\n",
              "    </tr>\n",
              "    <tr>\n",
              "      <th>92562</th>\n",
              "      <td>354954</td>\n",
              "      <td>2021-08-27 15:11:45.997</td>\n",
              "      <td>2021-08-27 15</td>\n",
              "    </tr>\n",
              "    <tr>\n",
              "      <th>92563</th>\n",
              "      <td>354954</td>\n",
              "      <td>2021-10-01 14:45:55.023</td>\n",
              "      <td>2021-10-01 14</td>\n",
              "    </tr>\n",
              "  </tbody>\n",
              "</table>\n",
              "<p>11576 rows × 3 columns</p>\n",
              "</div>\n",
              "      <button class=\"colab-df-convert\" onclick=\"convertToInteractive('df-1aaab768-5384-4c60-8ae2-682439402444')\"\n",
              "              title=\"Convert this dataframe to an interactive table.\"\n",
              "              style=\"display:none;\">\n",
              "        \n",
              "  <svg xmlns=\"http://www.w3.org/2000/svg\" height=\"24px\"viewBox=\"0 0 24 24\"\n",
              "       width=\"24px\">\n",
              "    <path d=\"M0 0h24v24H0V0z\" fill=\"none\"/>\n",
              "    <path d=\"M18.56 5.44l.94 2.06.94-2.06 2.06-.94-2.06-.94-.94-2.06-.94 2.06-2.06.94zm-11 1L8.5 8.5l.94-2.06 2.06-.94-2.06-.94L8.5 2.5l-.94 2.06-2.06.94zm10 10l.94 2.06.94-2.06 2.06-.94-2.06-.94-.94-2.06-.94 2.06-2.06.94z\"/><path d=\"M17.41 7.96l-1.37-1.37c-.4-.4-.92-.59-1.43-.59-.52 0-1.04.2-1.43.59L10.3 9.45l-7.72 7.72c-.78.78-.78 2.05 0 2.83L4 21.41c.39.39.9.59 1.41.59.51 0 1.02-.2 1.41-.59l7.78-7.78 2.81-2.81c.8-.78.8-2.07 0-2.86zM5.41 20L4 18.59l7.72-7.72 1.47 1.35L5.41 20z\"/>\n",
              "  </svg>\n",
              "      </button>\n",
              "      \n",
              "  <style>\n",
              "    .colab-df-container {\n",
              "      display:flex;\n",
              "      flex-wrap:wrap;\n",
              "      gap: 12px;\n",
              "    }\n",
              "\n",
              "    .colab-df-convert {\n",
              "      background-color: #E8F0FE;\n",
              "      border: none;\n",
              "      border-radius: 50%;\n",
              "      cursor: pointer;\n",
              "      display: none;\n",
              "      fill: #1967D2;\n",
              "      height: 32px;\n",
              "      padding: 0 0 0 0;\n",
              "      width: 32px;\n",
              "    }\n",
              "\n",
              "    .colab-df-convert:hover {\n",
              "      background-color: #E2EBFA;\n",
              "      box-shadow: 0px 1px 2px rgba(60, 64, 67, 0.3), 0px 1px 3px 1px rgba(60, 64, 67, 0.15);\n",
              "      fill: #174EA6;\n",
              "    }\n",
              "\n",
              "    [theme=dark] .colab-df-convert {\n",
              "      background-color: #3B4455;\n",
              "      fill: #D2E3FC;\n",
              "    }\n",
              "\n",
              "    [theme=dark] .colab-df-convert:hover {\n",
              "      background-color: #434B5C;\n",
              "      box-shadow: 0px 1px 3px 1px rgba(0, 0, 0, 0.15);\n",
              "      filter: drop-shadow(0px 1px 2px rgba(0, 0, 0, 0.3));\n",
              "      fill: #FFFFFF;\n",
              "    }\n",
              "  </style>\n",
              "\n",
              "      <script>\n",
              "        const buttonEl =\n",
              "          document.querySelector('#df-1aaab768-5384-4c60-8ae2-682439402444 button.colab-df-convert');\n",
              "        buttonEl.style.display =\n",
              "          google.colab.kernel.accessAllowed ? 'block' : 'none';\n",
              "\n",
              "        async function convertToInteractive(key) {\n",
              "          const element = document.querySelector('#df-1aaab768-5384-4c60-8ae2-682439402444');\n",
              "          const dataTable =\n",
              "            await google.colab.kernel.invokeFunction('convertToInteractive',\n",
              "                                                     [key], {});\n",
              "          if (!dataTable) return;\n",
              "\n",
              "          const docLinkHtml = 'Like what you see? Visit the ' +\n",
              "            '<a target=\"_blank\" href=https://colab.research.google.com/notebooks/data_table.ipynb>data table notebook</a>'\n",
              "            + ' to learn more about interactive tables.';\n",
              "          element.innerHTML = '';\n",
              "          dataTable['output_type'] = 'display_data';\n",
              "          await google.colab.output.renderOutput(dataTable, element);\n",
              "          const docLink = document.createElement('div');\n",
              "          docLink.innerHTML = docLinkHtml;\n",
              "          element.appendChild(docLink);\n",
              "        }\n",
              "      </script>\n",
              "    </div>\n",
              "  </div>\n",
              "  "
            ]
          },
          "metadata": {},
          "execution_count": 19
        }
      ]
    },
    {
      "cell_type": "markdown",
      "source": [
        "Group the source_id by visit hour"
      ],
      "metadata": {
        "id": "37VWNV6guklS"
      }
    },
    {
      "cell_type": "code",
      "source": [
        "same_hour_id = overlap_df.groupby('use_hour')['source_id'].apply(lambda x: list(np.unique(x)))"
      ],
      "metadata": {
        "id": "A2FMDxpal1MZ"
      },
      "execution_count": null,
      "outputs": []
    },
    {
      "cell_type": "code",
      "source": [
        "same_hour_id = same_hour_id.to_frame().reset_index()"
      ],
      "metadata": {
        "id": "N7NFvVYPmD70"
      },
      "execution_count": null,
      "outputs": []
    },
    {
      "cell_type": "code",
      "source": [
        "same_hour_id"
      ],
      "metadata": {
        "colab": {
          "base_uri": "https://localhost:8080/",
          "height": 423
        },
        "id": "MnQ2L0-imI3D",
        "outputId": "4ee81e52-9b93-4cfd-bb9f-80012d352641"
      },
      "execution_count": null,
      "outputs": [
        {
          "output_type": "execute_result",
          "data": {
            "text/plain": [
              "           use_hour                                          source_id\n",
              "0     2020-11-01 08                                   [248016, 248017]\n",
              "1     2020-11-01 09   [250398, 257422, 257435, 258100, 259069, 354533]\n",
              "2     2020-11-01 10  [250396, 250530, 250534, 255246, 255247, 25722...\n",
              "3     2020-11-01 11  [44794, 44800, 257288, 257289, 258228, 354627,...\n",
              "4     2020-11-01 12  [43803, 43804, 45901, 45902, 47365, 47366, 247...\n",
              "...             ...                                                ...\n",
              "2214  2021-10-30 18                                   [286167, 286168]\n",
              "2215  2021-10-31 07                    [59425, 278560, 278562, 290935]\n",
              "2216  2021-10-31 08                           [262990, 262993, 290936]\n",
              "2217  2021-10-31 09                                     [57535, 57536]\n",
              "2218  2021-10-31 11                                   [278983, 278985]\n",
              "\n",
              "[2219 rows x 2 columns]"
            ],
            "text/html": [
              "\n",
              "  <div id=\"df-66a80892-ade6-416c-8a5e-8270e3e60001\">\n",
              "    <div class=\"colab-df-container\">\n",
              "      <div>\n",
              "<style scoped>\n",
              "    .dataframe tbody tr th:only-of-type {\n",
              "        vertical-align: middle;\n",
              "    }\n",
              "\n",
              "    .dataframe tbody tr th {\n",
              "        vertical-align: top;\n",
              "    }\n",
              "\n",
              "    .dataframe thead th {\n",
              "        text-align: right;\n",
              "    }\n",
              "</style>\n",
              "<table border=\"1\" class=\"dataframe\">\n",
              "  <thead>\n",
              "    <tr style=\"text-align: right;\">\n",
              "      <th></th>\n",
              "      <th>use_hour</th>\n",
              "      <th>source_id</th>\n",
              "    </tr>\n",
              "  </thead>\n",
              "  <tbody>\n",
              "    <tr>\n",
              "      <th>0</th>\n",
              "      <td>2020-11-01 08</td>\n",
              "      <td>[248016, 248017]</td>\n",
              "    </tr>\n",
              "    <tr>\n",
              "      <th>1</th>\n",
              "      <td>2020-11-01 09</td>\n",
              "      <td>[250398, 257422, 257435, 258100, 259069, 354533]</td>\n",
              "    </tr>\n",
              "    <tr>\n",
              "      <th>2</th>\n",
              "      <td>2020-11-01 10</td>\n",
              "      <td>[250396, 250530, 250534, 255246, 255247, 25722...</td>\n",
              "    </tr>\n",
              "    <tr>\n",
              "      <th>3</th>\n",
              "      <td>2020-11-01 11</td>\n",
              "      <td>[44794, 44800, 257288, 257289, 258228, 354627,...</td>\n",
              "    </tr>\n",
              "    <tr>\n",
              "      <th>4</th>\n",
              "      <td>2020-11-01 12</td>\n",
              "      <td>[43803, 43804, 45901, 45902, 47365, 47366, 247...</td>\n",
              "    </tr>\n",
              "    <tr>\n",
              "      <th>...</th>\n",
              "      <td>...</td>\n",
              "      <td>...</td>\n",
              "    </tr>\n",
              "    <tr>\n",
              "      <th>2214</th>\n",
              "      <td>2021-10-30 18</td>\n",
              "      <td>[286167, 286168]</td>\n",
              "    </tr>\n",
              "    <tr>\n",
              "      <th>2215</th>\n",
              "      <td>2021-10-31 07</td>\n",
              "      <td>[59425, 278560, 278562, 290935]</td>\n",
              "    </tr>\n",
              "    <tr>\n",
              "      <th>2216</th>\n",
              "      <td>2021-10-31 08</td>\n",
              "      <td>[262990, 262993, 290936]</td>\n",
              "    </tr>\n",
              "    <tr>\n",
              "      <th>2217</th>\n",
              "      <td>2021-10-31 09</td>\n",
              "      <td>[57535, 57536]</td>\n",
              "    </tr>\n",
              "    <tr>\n",
              "      <th>2218</th>\n",
              "      <td>2021-10-31 11</td>\n",
              "      <td>[278983, 278985]</td>\n",
              "    </tr>\n",
              "  </tbody>\n",
              "</table>\n",
              "<p>2219 rows × 2 columns</p>\n",
              "</div>\n",
              "      <button class=\"colab-df-convert\" onclick=\"convertToInteractive('df-66a80892-ade6-416c-8a5e-8270e3e60001')\"\n",
              "              title=\"Convert this dataframe to an interactive table.\"\n",
              "              style=\"display:none;\">\n",
              "        \n",
              "  <svg xmlns=\"http://www.w3.org/2000/svg\" height=\"24px\"viewBox=\"0 0 24 24\"\n",
              "       width=\"24px\">\n",
              "    <path d=\"M0 0h24v24H0V0z\" fill=\"none\"/>\n",
              "    <path d=\"M18.56 5.44l.94 2.06.94-2.06 2.06-.94-2.06-.94-.94-2.06-.94 2.06-2.06.94zm-11 1L8.5 8.5l.94-2.06 2.06-.94-2.06-.94L8.5 2.5l-.94 2.06-2.06.94zm10 10l.94 2.06.94-2.06 2.06-.94-2.06-.94-.94-2.06-.94 2.06-2.06.94z\"/><path d=\"M17.41 7.96l-1.37-1.37c-.4-.4-.92-.59-1.43-.59-.52 0-1.04.2-1.43.59L10.3 9.45l-7.72 7.72c-.78.78-.78 2.05 0 2.83L4 21.41c.39.39.9.59 1.41.59.51 0 1.02-.2 1.41-.59l7.78-7.78 2.81-2.81c.8-.78.8-2.07 0-2.86zM5.41 20L4 18.59l7.72-7.72 1.47 1.35L5.41 20z\"/>\n",
              "  </svg>\n",
              "      </button>\n",
              "      \n",
              "  <style>\n",
              "    .colab-df-container {\n",
              "      display:flex;\n",
              "      flex-wrap:wrap;\n",
              "      gap: 12px;\n",
              "    }\n",
              "\n",
              "    .colab-df-convert {\n",
              "      background-color: #E8F0FE;\n",
              "      border: none;\n",
              "      border-radius: 50%;\n",
              "      cursor: pointer;\n",
              "      display: none;\n",
              "      fill: #1967D2;\n",
              "      height: 32px;\n",
              "      padding: 0 0 0 0;\n",
              "      width: 32px;\n",
              "    }\n",
              "\n",
              "    .colab-df-convert:hover {\n",
              "      background-color: #E2EBFA;\n",
              "      box-shadow: 0px 1px 2px rgba(60, 64, 67, 0.3), 0px 1px 3px 1px rgba(60, 64, 67, 0.15);\n",
              "      fill: #174EA6;\n",
              "    }\n",
              "\n",
              "    [theme=dark] .colab-df-convert {\n",
              "      background-color: #3B4455;\n",
              "      fill: #D2E3FC;\n",
              "    }\n",
              "\n",
              "    [theme=dark] .colab-df-convert:hover {\n",
              "      background-color: #434B5C;\n",
              "      box-shadow: 0px 1px 3px 1px rgba(0, 0, 0, 0.15);\n",
              "      filter: drop-shadow(0px 1px 2px rgba(0, 0, 0, 0.3));\n",
              "      fill: #FFFFFF;\n",
              "    }\n",
              "  </style>\n",
              "\n",
              "      <script>\n",
              "        const buttonEl =\n",
              "          document.querySelector('#df-66a80892-ade6-416c-8a5e-8270e3e60001 button.colab-df-convert');\n",
              "        buttonEl.style.display =\n",
              "          google.colab.kernel.accessAllowed ? 'block' : 'none';\n",
              "\n",
              "        async function convertToInteractive(key) {\n",
              "          const element = document.querySelector('#df-66a80892-ade6-416c-8a5e-8270e3e60001');\n",
              "          const dataTable =\n",
              "            await google.colab.kernel.invokeFunction('convertToInteractive',\n",
              "                                                     [key], {});\n",
              "          if (!dataTable) return;\n",
              "\n",
              "          const docLinkHtml = 'Like what you see? Visit the ' +\n",
              "            '<a target=\"_blank\" href=https://colab.research.google.com/notebooks/data_table.ipynb>data table notebook</a>'\n",
              "            + ' to learn more about interactive tables.';\n",
              "          element.innerHTML = '';\n",
              "          dataTable['output_type'] = 'display_data';\n",
              "          await google.colab.output.renderOutput(dataTable, element);\n",
              "          const docLink = document.createElement('div');\n",
              "          docLink.innerHTML = docLinkHtml;\n",
              "          element.appendChild(docLink);\n",
              "        }\n",
              "      </script>\n",
              "    </div>\n",
              "  </div>\n",
              "  "
            ]
          },
          "metadata": {},
          "execution_count": 26
        }
      ]
    },
    {
      "cell_type": "markdown",
      "source": [
        "Network Model"
      ],
      "metadata": {
        "id": "vpPTXPz0unsH"
      }
    },
    {
      "cell_type": "code",
      "source": [
        "from itertools import combinations\n",
        "G = nx.Graph()\n",
        "\n",
        "for i in range(len(same_hour_id)):\n",
        "    for j in range(len(same_hour_id['source_id'][i])):\n",
        "        if str(same_hour_id['source_id'][i][j]) not in G.nodes():\n",
        "            G.add_node(str(same_hour_id['source_id'][i][j]),weight = 1)\n",
        "        else:\n",
        "            G.nodes[str(same_hour_id['source_id'][i][j])]['weight'] += 1\n",
        "            \n",
        "    edge_combinations = list(combinations(same_hour_id['source_id'][i],2))\n",
        "    for combination in edge_combinations:\n",
        "        if (str(combination[0]),str(combination[1])) not in G.edges():\n",
        "            G.add_edge(str(combination[0]),str(combination[1]),weight=1)\n",
        "        else:\n",
        "            G.edges[str(combination[0]),str(combination[1])]['weight'] += 1\n",
        "            \n",
        "sorted_same_month_group = sorted(G.edges(data=True),key= lambda x: x[2]['weight'],reverse=True)"
      ],
      "metadata": {
        "id": "SIqN-sNGmSpK"
      },
      "execution_count": null,
      "outputs": []
    },
    {
      "cell_type": "code",
      "source": [
        "groups = []\n",
        "\n",
        "for node1 in G.nodes():\n",
        "    node1_weight = G.nodes[node1]['weight']\n",
        "    \n",
        "    if len(G.edges(node1,data=True)) > 0:\n",
        "    \n",
        "        max_value = sorted(G.edges(node1,data=True),key=lambda x: x[2]['weight'],reverse=True)[0][-1]\n",
        "        max_value = [int(value) for key, value in max_value.items()][0]\n",
        "    \n",
        "        if max_value > 1:\n",
        "            node2 = sorted(G.edges(node1,data=True),key= lambda x: x[2]['weight'],reverse=True)[0][1]\n",
        "            node2_weight = G.nodes[node2]['weight']\n",
        "    \n",
        "            group_weight = sorted(G.edges(node1,data=True),key= lambda x: x[2]['weight'],reverse=True)[0][-1]\n",
        "            group_weight = [int(value) for key, value in group_weight.items()][0]\n",
        "    \n",
        "            node1_neighbor = []\n",
        "            node2_neighbor = []\n",
        "\n",
        "            for nbr in G.neighbors(node1):\n",
        "                threshold_weight = 90/100*node1_weight\n",
        "                if G.edges[node1, nbr]['weight'] > threshold_weight:\n",
        "                    if nbr != node2:\n",
        "                        node1_neighbor.append(nbr)\n",
        "\n",
        "            for nbr in G.neighbors(node2):\n",
        "                threshold_weight = 90/100*node2_weight\n",
        "                if G.edges[node2, nbr]['weight'] > threshold_weight: \n",
        "                    if nbr != node1:\n",
        "                        node2_neighbor.append(nbr)\n",
        "\n",
        "            group_neighbor = node1_neighbor+node2_neighbor\n",
        "            group_neighbor = list(set(group_neighbor))            \n",
        "\n",
        "            current_group = []\n",
        "            current_group.append(node1)\n",
        "            current_group.append(node2)\n",
        "            current_group += group_neighbor\n",
        "\n",
        "            if current_group not in groups:\n",
        "                groups.append(current_group)\n",
        "    "
      ],
      "metadata": {
        "id": "-SM5XPL1mexP"
      },
      "execution_count": null,
      "outputs": []
    },
    {
      "cell_type": "code",
      "source": [
        "unique_groups = [list(x) for x in set(frozenset(i) for i in [set(i) for i in groups])]\n",
        "wechat_group = [testing_data.loc[i] for i in range(testing_data.shape[0])]"
      ],
      "metadata": {
        "id": "q3pZ4ah_mwcU"
      },
      "execution_count": null,
      "outputs": []
    },
    {
      "cell_type": "markdown",
      "source": [
        "Calculate the accuracy"
      ],
      "metadata": {
        "id": "KE6SK4Svusn5"
      }
    },
    {
      "cell_type": "code",
      "source": [
        "for group in wechat_group:\n",
        "  group.dropna(inplace = True)\n",
        "wechat_group_list = [list(n) for n in wechat_group]"
      ],
      "metadata": {
        "colab": {
          "base_uri": "https://localhost:8080/"
        },
        "id": "AW0Fzci00WH0",
        "outputId": "0e399d92-4897-4df0-ef23-39137ea6a755"
      },
      "execution_count": null,
      "outputs": [
        {
          "output_type": "stream",
          "name": "stderr",
          "text": [
            "/usr/local/lib/python3.7/dist-packages/pandas/core/series.py:5258: SettingWithCopyWarning: \n",
            "A value is trying to be set on a copy of a slice from a DataFrame\n",
            "\n",
            "See the caveats in the documentation: https://pandas.pydata.org/pandas-docs/stable/user_guide/indexing.html#returning-a-view-versus-a-copy\n",
            "  self._update_inplace(result)\n"
          ]
        }
      ]
    },
    {
      "cell_type": "code",
      "source": [
        "unique_groups_int = []\n",
        "for group in unique_groups:\n",
        "  group = [int(x) for x in group]\n",
        "  unique_groups_int.append(group)"
      ],
      "metadata": {
        "id": "L0maQdQJ0il4"
      },
      "execution_count": null,
      "outputs": []
    },
    {
      "cell_type": "code",
      "source": [
        "group_set = set([frozenset(x) for x in unique_groups_int])\n",
        "wechat_set = set([frozenset(x) for x in wechat_group])\n",
        "difference_set = group_set.difference(wechat_set)\n",
        "difference_set2 = wechat_set.difference(group_set)\n",
        "print(len(group_set), len(wechat_set), len(difference_set), len(difference_set2))\n",
        "print(1 - len(difference_set2)/len(wechat_set))"
      ],
      "metadata": {
        "id": "kejHFxJInDQz",
        "colab": {
          "base_uri": "https://localhost:8080/"
        },
        "outputId": "b97a4b46-3556-4bcd-df76-e1f351268f0c"
      },
      "execution_count": null,
      "outputs": [
        {
          "output_type": "stream",
          "name": "stdout",
          "text": [
            "580 568 44 32\n",
            "0.9436619718309859\n"
          ]
        }
      ]
    },
    {
      "cell_type": "code",
      "source": [
        "#group_set"
      ],
      "metadata": {
        "id": "dYfPAH_W4jsx"
      },
      "execution_count": null,
      "outputs": []
    },
    {
      "cell_type": "code",
      "source": [
        "#wechat_set"
      ],
      "metadata": {
        "id": "2bRe3qe_4rWF"
      },
      "execution_count": null,
      "outputs": []
    },
    {
      "cell_type": "code",
      "source": [
        "#difference_set"
      ],
      "metadata": {
        "id": "sMfqx9WQ6e5r"
      },
      "execution_count": null,
      "outputs": []
    },
    {
      "cell_type": "code",
      "source": [
        "accuracy = {}\n",
        "for group in unique_groups:\n",
        "  group = [int(x) for x in group]\n",
        "  similarity_count = []\n",
        "  set1 = set(group)\n",
        "  for group2 in wechat_group_list:\n",
        "    set2 = set(group2)\n",
        "    difference_set = set2.difference(set1)\n",
        "    similarity_count.append(1 - (len(difference_set)/len(set2)))\n",
        "  accuracy[str(group)] = [max(similarity_count), str(list(wechat_group[similarity_count.index(max(similarity_count))]))]"
      ],
      "metadata": {
        "id": "zIEIrR1F0OVz"
      },
      "execution_count": null,
      "outputs": []
    },
    {
      "cell_type": "code",
      "source": [
        "partial_correct = []\n",
        "for value in list(accuracy.values()):\n",
        "  if value[0] < 1:\n",
        "    partial_correct.append(value)"
      ],
      "metadata": {
        "id": "BU-6EFU1185a"
      },
      "execution_count": null,
      "outputs": []
    },
    {
      "cell_type": "code",
      "source": [
        "sum = 0\n",
        "for value in list(accuracy.values()):\n",
        "  sum += value[0]\n",
        "avg_accuracy = sum/len(accuracy)\n",
        "print(avg_accuracy)"
      ],
      "metadata": {
        "colab": {
          "base_uri": "https://localhost:8080/"
        },
        "id": "JI9lnaJL5Br0",
        "outputId": "6332cb1a-7d76-497e-e74a-c787f54fb479"
      },
      "execution_count": null,
      "outputs": [
        {
          "output_type": "stream",
          "name": "stdout",
          "text": [
            "0.979454022988506\n"
          ]
        }
      ]
    },
    {
      "cell_type": "code",
      "source": [
        "accuracy"
      ],
      "metadata": {
        "id": "js6k6Zwn39vl",
        "colab": {
          "base_uri": "https://localhost:8080/"
        },
        "outputId": "9b3c3736-9839-4ae2-ff93-ad3c88a0cbca"
      },
      "execution_count": null,
      "outputs": [
        {
          "output_type": "execute_result",
          "data": {
            "text/plain": [
              "{'[186557, 186559]': [1.0, '[186557.0, 186559.0]'],\n",
              " '[187027, 60325]': [1.0, '[187027.0, 60325.0]'],\n",
              " '[187361, 187363, 187362]': [1.0, '[187363.0, 187361.0, 187362.0]'],\n",
              " '[187424, 63118]': [1.0, '[63118.0, 187424.0]'],\n",
              " '[187686, 187687]': [1.0, '[187687.0, 187686.0]'],\n",
              " '[188750, 188751]': [1.0, '[188750.0, 188751.0]'],\n",
              " '[18919, 18920]': [1.0, '[18920.0, 18919.0]'],\n",
              " '[247703, 42084]': [0.6666666666666667, '[42085.0, 42084.0, 247703.0]'],\n",
              " '[248017, 248016]': [0.6666666666666667, '[248018.0, 248016.0, 248017.0]'],\n",
              " '[248018, 248017, 248016]': [1.0, '[248018.0, 248016.0, 248017.0]'],\n",
              " '[248281, 248279]': [1.0, '[248279.0, 248281.0]'],\n",
              " '[249634, 249635]': [1.0, '[249634.0, 249635.0]'],\n",
              " '[249678, 249676]': [1.0, '[249676.0, 249678.0]'],\n",
              " '[249766, 251119]': [1.0, '[249766.0, 251119.0]'],\n",
              " '[249806, 249807]': [1.0, '[249806.0, 249807.0]'],\n",
              " '[250206, 250207]': [1.0, '[250206.0, 250207.0]'],\n",
              " '[250396, 250398]': [1.0, '[250396.0, 250398.0]'],\n",
              " '[250479, 250476]': [1.0, '[250479.0, 250476.0]'],\n",
              " '[250530, 250534]': [1.0, '[250530.0, 250534.0]'],\n",
              " '[250785, 250787]': [1.0, '[250787.0, 250785.0]'],\n",
              " '[250993, 250996]': [0.6666666666666667, '[250996.0, 251003.0, 250993.0]'],\n",
              " '[250993, 251003]': [0.6666666666666667, '[250996.0, 251003.0, 250993.0]'],\n",
              " '[251079, 251084]': [1.0, '[251084.0, 251079.0]'],\n",
              " '[251166, 42739]': [1.0, '[42739.0, 251166.0]'],\n",
              " '[251336, 251335]': [1.0, '[251335.0, 251336.0]'],\n",
              " '[251708, 251711]': [1.0, '[251708.0, 251711.0]'],\n",
              " '[251760, 251690]': [1.0, '[251760.0, 251690.0]'],\n",
              " '[252346, 252345]': [1.0, '[252346.0, 252345.0]'],\n",
              " '[252364, 252898]': [1.0, '[252364.0, 252898.0]'],\n",
              " '[252364, 255312, 255313]': [1.0, '[255313.0, 255312.0]'],\n",
              " '[252376, 252379]': [1.0, '[252379.0, 252376.0]'],\n",
              " '[252423, 252424]': [1.0, '[252424.0, 252423.0]'],\n",
              " '[252428, 252430]': [1.0, '[252430.0, 252428.0]'],\n",
              " '[252610, 252611]': [1.0, '[252610.0, 252611.0]'],\n",
              " '[252922, 252921]': [1.0, '[252922.0, 252921.0]'],\n",
              " '[253550, 253551]': [1.0, '[253551.0, 253550.0]'],\n",
              " '[253943, 253942]': [1.0, '[253943.0, 253942.0]'],\n",
              " '[254011, 254013]': [1.0, '[254013.0, 254011.0]'],\n",
              " '[254235, 254233]': [1.0, '[254235.0, 254233.0]'],\n",
              " '[254344, 254343]': [1.0, '[254343.0, 254344.0]'],\n",
              " '[255122, 59297]': [1.0, '[255122.0, 59297.0]'],\n",
              " '[255144, 255145, 255147]': [1.0, '[255147.0, 255145.0, 255144.0]'],\n",
              " '[255247, 255246]': [1.0, '[255246.0, 255247.0]'],\n",
              " '[255313, 255312]': [1.0, '[255313.0, 255312.0]'],\n",
              " '[255478, 255480]': [1.0, '[255478.0, 255480.0]'],\n",
              " '[256041, 256049]': [1.0, '[256041.0, 256049.0]'],\n",
              " '[256431, 256413]': [1.0, '[256413.0, 256431.0]'],\n",
              " '[256448, 256449]': [1.0, '[256449.0, 256448.0]'],\n",
              " '[256519, 256522]': [1.0, '[256522.0, 256519.0]'],\n",
              " '[257004, 257006]': [1.0, '[257004.0, 257006.0]'],\n",
              " '[257229, 257230, 257228]': [1.0, '[257230.0, 257228.0, 257229.0]'],\n",
              " '[257269, 257270]': [1.0, '[257270.0, 257269.0]'],\n",
              " '[257289, 257288]': [1.0, '[257288.0, 257289.0]'],\n",
              " '[257435, 257422]': [1.0, '[257435.0, 257422.0]'],\n",
              " '[257768, 257769]': [1.0, '[257769.0, 257768.0]'],\n",
              " '[258228, 354954]': [1.0, '[354954.0, 258228.0]'],\n",
              " '[258234, 258232]': [1.0, '[258232.0, 258234.0]'],\n",
              " '[258452, 258453]': [1.0, '[258452.0, 258453.0]'],\n",
              " '[259069, 258100]': [1.0, '[259069.0, 258100.0]'],\n",
              " '[259121, 259122]': [1.0, '[259122.0, 259121.0]'],\n",
              " '[259183, 53500]': [1.0, '[259183.0, 53500.0]'],\n",
              " '[259425, 259424, 259426]': [1.0, '[259426.0, 259425.0, 259424.0]'],\n",
              " '[259453, 259457]': [1.0, '[259457.0, 259453.0]'],\n",
              " '[260284, 64854]': [0.6666666666666667, '[59425.0, 260284.0, 64854.0]'],\n",
              " '[260330, 260329]': [1.0, '[260330.0, 260329.0]'],\n",
              " '[260360, 260361]': [1.0, '[260361.0, 260360.0]'],\n",
              " '[260367, 260368]': [1.0, '[260368.0, 260367.0]'],\n",
              " '[260380, 260382]': [1.0, '[260382.0, 260380.0]'],\n",
              " '[260405, 260406]': [1.0, '[260405.0, 260406.0]'],\n",
              " '[260432, 260431]': [1.0, '[260431.0, 260432.0]'],\n",
              " '[260535, 259536]': [1.0, '[259536.0, 260535.0]'],\n",
              " '[261050, 261051]': [1.0, '[261050.0, 261051.0]'],\n",
              " '[261196, 261197]': [1.0, '[261197.0, 261196.0]'],\n",
              " '[261342, 261341]': [1.0, '[261342.0, 261341.0]'],\n",
              " '[261409, 261411]': [1.0, '[261411.0, 261409.0]'],\n",
              " '[261479, 261480]': [1.0, '[261480.0, 261479.0]'],\n",
              " '[261483, 261482]': [1.0, '[261482.0, 261483.0]'],\n",
              " '[261502, 261501]': [1.0, '[261501.0, 261502.0]'],\n",
              " '[26152, 26154]': [1.0, '[26152.0, 26154.0]'],\n",
              " '[261582, 261583]': [1.0, '[261582.0, 261583.0]'],\n",
              " '[261920, 261924]': [1.0, '[261924.0, 261920.0]'],\n",
              " '[261950, 262170, 262171]': [1.0, '[262171.0, 261950.0, 262170.0]'],\n",
              " '[262020, 262021]': [1.0, '[262020.0, 262021.0]'],\n",
              " '[262028, 262027]': [1.0, '[262027.0, 262028.0]'],\n",
              " '[262040, 262037]': [1.0, '[262040.0, 262037.0]'],\n",
              " '[262151, 262125]': [1.0, '[262151.0, 262125.0]'],\n",
              " '[262290, 262979]': [1.0, '[262979.0, 262290.0]'],\n",
              " '[262304, 262306]': [1.0, '[262306.0, 262304.0]'],\n",
              " '[262387, 261911]': [1.0, '[261911.0, 262387.0]'],\n",
              " '[262437, 262441]': [1.0, '[262437.0, 262441.0]'],\n",
              " '[262533, 262530]': [1.0, '[262530.0, 262533.0]'],\n",
              " '[262628, 262626, 262627]': [1.0, '[262627.0, 262626.0, 262628.0]'],\n",
              " '[262628, 262626]': [0.6666666666666667, '[262627.0, 262626.0, 262628.0]'],\n",
              " '[262633, 262634]': [1.0, '[262634.0, 262633.0]'],\n",
              " '[262657, 262656]': [1.0, '[262657.0, 262656.0]'],\n",
              " '[262729, 261139]': [1.0, '[261139.0, 262729.0]'],\n",
              " '[262879, 286547]': [1.0, '[262879.0, 286547.0]'],\n",
              " '[262993, 262990]': [1.0, '[262990.0, 262993.0]'],\n",
              " '[263166, 263123]': [1.0, '[263123.0, 263166.0]'],\n",
              " '[263221, 263222]': [1.0, '[263221.0, 263222.0]'],\n",
              " '[263713, 263712]': [1.0, '[263712.0, 263713.0]'],\n",
              " '[263717, 263714]': [1.0, '[263714.0, 263717.0]'],\n",
              " '[263828, 263830]': [1.0, '[263828.0, 263830.0]'],\n",
              " '[264387, 264388]': [1.0, '[264387.0, 264388.0]'],\n",
              " '[264520, 264527]': [1.0, '[264527.0, 264520.0]'],\n",
              " '[264701, 264663]': [1.0, '[264701.0, 264663.0]'],\n",
              " '[264746, 264745]': [1.0, '[264746.0, 264745.0]'],\n",
              " '[264778, 264780]': [1.0, '[264780.0, 264778.0]'],\n",
              " '[264799, 264800]': [1.0, '[264799.0, 264800.0]'],\n",
              " '[265045, 265046]': [1.0, '[265046.0, 265045.0]'],\n",
              " '[265057, 265058, 265055]': [1.0, '[265057.0, 265055.0, 265058.0]'],\n",
              " '[265058, 265055]': [0.6666666666666667, '[265057.0, 265055.0, 265058.0]'],\n",
              " '[265068, 265072]': [1.0, '[265068.0, 265072.0]'],\n",
              " '[265223, 265222]': [1.0, '[265223.0, 265222.0]'],\n",
              " '[265225, 269548]': [1.0, '[269548.0, 265225.0]'],\n",
              " '[265283, 265281]': [1.0, '[265281.0, 265283.0]'],\n",
              " '[265531, 265985]': [1.0, '[265531.0, 265985.0]'],\n",
              " '[265902, 265900]': [1.0, '[265902.0, 265900.0]'],\n",
              " '[265959, 265958]': [1.0, '[265958.0, 265959.0]'],\n",
              " '[265969, 265974]': [1.0, '[265969.0, 265974.0]'],\n",
              " '[266006, 266007]': [1.0, '[266007.0, 266006.0]'],\n",
              " '[266020, 266080]': [1.0, '[266080.0, 266020.0]'],\n",
              " '[266181, 266180]': [1.0, '[266180.0, 266181.0]'],\n",
              " '[266285, 267895]': [1.0, '[267895.0, 266285.0]'],\n",
              " '[266661, 266662]': [1.0, '[266661.0, 266662.0]'],\n",
              " '[266766, 266763]': [1.0, '[266766.0, 266763.0]'],\n",
              " '[266877, 266881]': [1.0, '[266881.0, 266877.0]'],\n",
              " '[266988, 266997]': [1.0, '[266988.0, 266997.0]'],\n",
              " '[267025, 266976]': [1.0, '[266976.0, 267025.0]'],\n",
              " '[267093, 269006]': [1.0, '[267093.0, 269006.0]'],\n",
              " '[267106, 267108, 267105]': [1.0, '[267108.0, 267106.0, 267105.0]'],\n",
              " '[267106, 267108]': [0.6666666666666667, '[267108.0, 267106.0, 267105.0]'],\n",
              " '[267207, 267206]': [1.0, '[267206.0, 267207.0]'],\n",
              " '[267448, 267449]': [1.0, '[267449.0, 267448.0]'],\n",
              " '[267482, 267480]': [1.0, '[267482.0, 267480.0]'],\n",
              " '[267505, 267504]': [1.0, '[267505.0, 267504.0]'],\n",
              " '[267515, 267522]': [1.0, '[267522.0, 267515.0]'],\n",
              " '[267587, 267586]': [1.0, '[267587.0, 267586.0]'],\n",
              " '[267656, 270335]': [1.0, '[270335.0, 267656.0]'],\n",
              " '[267750, 267741]': [1.0, '[267750.0, 267741.0]'],\n",
              " '[267753, 267752]': [1.0, '[267753.0, 267752.0]'],\n",
              " '[267938, 267941]': [1.0, '[267941.0, 267938.0]'],\n",
              " '[267959, 267957]': [1.0, '[267959.0, 267957.0]'],\n",
              " '[268092, 268104]': [1.0, '[268092.0, 268104.0]'],\n",
              " '[268159, 273643]': [1.0, '[268159.0, 273643.0]'],\n",
              " '[268301, 268302]': [1.0, '[268301.0, 268302.0]'],\n",
              " '[268405, 268406]': [1.0, '[268406.0, 268405.0]'],\n",
              " '[268812, 268816]': [0.6666666666666667, '[268816.0, 268812.0, 268818.0]'],\n",
              " '[268818, 268812, 268816]': [1.0, '[268816.0, 268812.0, 268818.0]'],\n",
              " '[269119, 277943]': [1.0, '[269119.0, 277943.0]'],\n",
              " '[269240, 269219]': [1.0, '[269240.0, 269219.0]'],\n",
              " '[269353, 269355]': [1.0, '[269353.0, 269355.0]'],\n",
              " '[269353, 283874]': [0.5, '[269353.0, 269355.0]'],\n",
              " '[269376, 269375]': [1.0, '[269375.0, 269376.0]'],\n",
              " '[269390, 269388]': [1.0, '[269390.0, 269388.0]'],\n",
              " '[269400, 269701]': [1.0, '[269400.0, 269701.0]'],\n",
              " '[269546, 269547]': [1.0, '[269546.0, 269547.0]'],\n",
              " '[269631, 269628]': [1.0, '[269631.0, 269628.0]'],\n",
              " '[269754, 269753]': [1.0, '[269754.0, 269753.0]'],\n",
              " '[269764, 269708]': [1.0, '[269708.0, 269764.0]'],\n",
              " '[269798, 269802]': [1.0, '[269798.0, 269802.0]'],\n",
              " '[269855, 269852]': [1.0, '[269852.0, 269855.0]'],\n",
              " '[269936, 269939]': [1.0, '[269936.0, 269939.0]'],\n",
              " '[269940, 54106]': [1.0, '[269940.0, 54106.0]'],\n",
              " '[270023, 270024]': [1.0, '[270024.0, 270023.0]'],\n",
              " '[270111, 270096]': [1.0, '[270096.0, 270111.0]'],\n",
              " '[270197, 270003]': [1.0, '[270197.0, 270003.0]'],\n",
              " '[270347, 270348]': [1.0, '[270347.0, 270348.0]'],\n",
              " '[270360, 270412]': [1.0, '[270360.0, 270412.0]'],\n",
              " '[270368, 59587]': [1.0, '[59587.0, 270368.0]'],\n",
              " '[270426, 270428]': [1.0, '[270426.0, 270428.0]'],\n",
              " '[270499, 270500]': [1.0, '[270500.0, 270499.0]'],\n",
              " '[270518, 270555]': [1.0, '[270518.0, 270555.0]'],\n",
              " '[270563, 270564]': [1.0, '[270564.0, 270563.0]'],\n",
              " '[270617, 270620]': [0.6666666666666667, '[270621.0, 270617.0, 270620.0]'],\n",
              " '[270621, 270617]': [0.6666666666666667, '[270621.0, 270617.0, 270620.0]'],\n",
              " '[270631, 270632]': [0.6666666666666667, '[270631.0, 270633.0, 270632.0]'],\n",
              " '[270631, 270633, 270632]': [1.0, '[270631.0, 270633.0, 270632.0]'],\n",
              " '[270815, 269381]': [1.0, '[270815.0, 269381.0]'],\n",
              " '[270948, 262650]': [1.0, '[270948.0, 262650.0]'],\n",
              " '[271625, 271626]': [1.0, '[271625.0, 271626.0]'],\n",
              " '[271648, 289947]': [1.0, '[289947.0, 271648.0]'],\n",
              " '[271679, 271680]': [1.0, '[271679.0, 271680.0]'],\n",
              " '[271709, 271707]': [1.0, '[271707.0, 271709.0]'],\n",
              " '[271755, 271756]': [1.0, '[271756.0, 271755.0]'],\n",
              " '[271823, 267892]': [1.0, '[271823.0, 267892.0]'],\n",
              " '[271975, 271974]': [1.0, '[271975.0, 271974.0]'],\n",
              " '[272034, 272033]': [1.0, '[272033.0, 272034.0]'],\n",
              " '[272049, 272048]': [1.0, '[272049.0, 272048.0]'],\n",
              " '[272121, 272119]': [1.0, '[272121.0, 272119.0]'],\n",
              " '[272203, 272204]': [1.0, '[272204.0, 272203.0]'],\n",
              " '[272311, 273360]': [1.0, '[272311.0, 273360.0]'],\n",
              " '[272330, 272331]': [1.0, '[272330.0, 272331.0]'],\n",
              " '[272408, 272409]': [1.0, '[272408.0, 272409.0]'],\n",
              " '[272439, 272436]': [1.0, '[272436.0, 272439.0]'],\n",
              " '[272614, 272615]': [1.0, '[272615.0, 272614.0]'],\n",
              " '[272708, 56375]': [1.0, '[56375.0, 272708.0]'],\n",
              " '[272860, 272862]': [1.0, '[272860.0, 272862.0]'],\n",
              " '[272870, 272867]': [1.0, '[272870.0, 272867.0]'],\n",
              " '[272984, 272985]': [1.0, '[272985.0, 272984.0]'],\n",
              " '[272992, 272993]': [0.6666666666666667, '[272994.0, 272992.0, 272993.0]'],\n",
              " '[272992, 272994, 272993]': [1.0, '[272994.0, 272992.0, 272993.0]'],\n",
              " '[273026, 273029]': [1.0, '[273029.0, 273026.0]'],\n",
              " '[273046, 274012]': [1.0, '[274012.0, 273046.0]'],\n",
              " '[273169, 278794]': [1.0, '[273169.0, 278794.0]'],\n",
              " '[273322, 273323]': [1.0, '[273323.0, 273322.0]'],\n",
              " '[273489, 273490]': [1.0, '[273490.0, 273489.0]'],\n",
              " '[273576, 268153]': [1.0, '[273576.0, 268153.0]'],\n",
              " '[273639, 273640]': [1.0, '[273639.0, 273640.0]'],\n",
              " '[273771, 273772]': [1.0, '[273772.0, 273771.0]'],\n",
              " '[273813, 273814, 273815]': [1.0, '[273814.0, 273815.0, 273813.0]'],\n",
              " '[273814, 273815]': [0.6666666666666667, '[273814.0, 273815.0, 273813.0]'],\n",
              " '[274000, 274001]': [1.0, '[274000.0, 274001.0]'],\n",
              " '[274004, 274003]': [1.0, '[274004.0, 274003.0]'],\n",
              " '[27401, 27400]': [1.0, '[27401.0, 27400.0]'],\n",
              " '[274011, 274009]': [1.0, '[274009.0, 274011.0]'],\n",
              " '[274032, 274033]': [0.6666666666666667, '[274033.0, 274038.0, 274032.0]'],\n",
              " '[274038, 274032]': [0.6666666666666667, '[274033.0, 274038.0, 274032.0]'],\n",
              " '[274204, 274212]': [1.0, '[274204.0, 274212.0]'],\n",
              " '[274252, 274250]': [1.0, '[274252.0, 274250.0]'],\n",
              " '[274279, 274280]': [1.0, '[274279.0, 274280.0]'],\n",
              " '[274385, 274381]': [1.0, '[274381.0, 274385.0]'],\n",
              " '[274396, 274395]': [1.0, '[274396.0, 274395.0]'],\n",
              " '[274409, 274410]': [1.0, '[274410.0, 274409.0]'],\n",
              " '[274425, 274424]': [1.0, '[274425.0, 274424.0]'],\n",
              " '[274485, 274484]': [1.0, '[274485.0, 274484.0]'],\n",
              " '[274540, 265194]': [1.0, '[265194.0, 274540.0]'],\n",
              " '[274697, 274696]': [1.0, '[274696.0, 274697.0]'],\n",
              " '[274697, 276618, 274696]': [1.0, '[274696.0, 274697.0]'],\n",
              " '[274780, 274779]': [1.0, '[274780.0, 274779.0]'],\n",
              " '[274986, 274985]': [1.0, '[274986.0, 274985.0]'],\n",
              " '[274991, 274992]': [1.0, '[274992.0, 274991.0]'],\n",
              " '[275196, 275197]': [1.0, '[275196.0, 275197.0]'],\n",
              " '[275212, 275211]': [1.0, '[275211.0, 275212.0]'],\n",
              " '[275271, 275270]': [1.0, '[275270.0, 275271.0]'],\n",
              " '[275404, 275405]': [1.0, '[275404.0, 275405.0]'],\n",
              " '[275471, 275472]': [1.0, '[275472.0, 275471.0]'],\n",
              " '[275524, 275668]': [1.0, '[275668.0, 275524.0]'],\n",
              " '[275584, 275582]': [1.0, '[275584.0, 275582.0]'],\n",
              " '[275599, 275598]': [1.0, '[275598.0, 275599.0]'],\n",
              " '[275658, 275659]': [1.0, '[275659.0, 275658.0]'],\n",
              " '[275663, 281950]': [1.0, '[275663.0, 281950.0]'],\n",
              " '[275722, 275723]': [1.0, '[275722.0, 275723.0]'],\n",
              " '[275941, 275942]': [1.0, '[275941.0, 275942.0]'],\n",
              " '[275952, 275955]': [1.0, '[275952.0, 275955.0]'],\n",
              " '[275999, 275998]': [1.0, '[275998.0, 275999.0]'],\n",
              " '[276019, 276888]': [1.0, '[276019.0, 276888.0]'],\n",
              " '[276217, 276218]': [1.0, '[276218.0, 276217.0]'],\n",
              " '[276532, 276531, 276530]': [1.0, '[276531.0, 276532.0, 276530.0]'],\n",
              " '[276541, 276542]': [1.0, '[276541.0, 276542.0]'],\n",
              " '[276606, 276605, 276604]': [0.75,\n",
              "  '[276606.0, 276604.0, 276618.0, 276605.0]'],\n",
              " '[276620, 276621]': [1.0, '[276620.0, 276621.0]'],\n",
              " '[276679, 276681]': [1.0, '[276679.0, 276681.0]'],\n",
              " '[276696, 276694]': [1.0, '[276694.0, 276696.0]'],\n",
              " '[276740, 276742]': [1.0, '[276740.0, 276742.0]'],\n",
              " '[276853, 276855]': [1.0, '[276853.0, 276855.0]'],\n",
              " '[276999, 276997]': [1.0, '[276999.0, 276997.0]'],\n",
              " '[277032, 277030]': [1.0, '[277030.0, 277032.0]'],\n",
              " '[277087, 277085]': [1.0, '[277087.0, 277085.0]'],\n",
              " '[277151, 277150]': [1.0, '[277151.0, 277150.0]'],\n",
              " '[277249, 277248]': [1.0, '[277248.0, 277249.0]'],\n",
              " '[277322, 277321]': [1.0, '[277322.0, 277321.0]'],\n",
              " '[277440, 277441]': [1.0, '[277440.0, 277441.0]'],\n",
              " '[277460, 277458]': [1.0, '[277460.0, 277458.0]'],\n",
              " '[277594, 277593]': [1.0, '[277593.0, 277594.0]'],\n",
              " '[277638, 277640]': [1.0, '[277638.0, 277640.0]'],\n",
              " '[277711, 277713]': [1.0, '[277713.0, 277711.0]'],\n",
              " '[277784, 277785]': [1.0, '[277785.0, 277784.0]'],\n",
              " '[277936, 277937]': [1.0, '[277936.0, 277937.0]'],\n",
              " '[277995, 277996]': [1.0, '[277996.0, 277995.0]'],\n",
              " '[278222, 269143]': [1.0, '[269143.0, 278222.0]'],\n",
              " '[278268, 276134]': [1.0, '[278268.0, 276134.0]'],\n",
              " '[278284, 278281]': [1.0, '[278284.0, 278281.0]'],\n",
              " '[278286, 278287]': [1.0, '[278286.0, 278287.0]'],\n",
              " '[278316, 278317]': [1.0, '[278317.0, 278316.0]'],\n",
              " '[278469, 278553]': [1.0, '[278553.0, 278469.0]'],\n",
              " '[278472, 278473]': [1.0, '[278473.0, 278472.0]'],\n",
              " '[278547, 278548, 278552]': [1.0, '[278548.0, 278547.0, 278552.0]'],\n",
              " '[278548, 278552]': [0.6666666666666667, '[278548.0, 278547.0, 278552.0]'],\n",
              " '[278560, 278562]': [1.0, '[278560.0, 278562.0]'],\n",
              " '[278781, 278788]': [1.0, '[278788.0, 278781.0]'],\n",
              " '[278800, 278801]': [1.0, '[278800.0, 278801.0]'],\n",
              " '[278895, 278896]': [1.0, '[278895.0, 278896.0]'],\n",
              " '[278985, 278983]': [1.0, '[278985.0, 278983.0]'],\n",
              " '[279093, 279091]': [1.0, '[279091.0, 279093.0]'],\n",
              " '[279119, 60961]': [1.0, '[279119.0, 60961.0]'],\n",
              " '[279168, 279170, 279169]': [1.0, '[279169.0, 279168.0, 279170.0]'],\n",
              " '[279168, 279170]': [0.6666666666666667, '[279169.0, 279168.0, 279170.0]'],\n",
              " '[279239, 279240]': [1.0, '[279239.0, 279240.0]'],\n",
              " '[279376, 279377]': [1.0, '[279376.0, 279377.0]'],\n",
              " '[279392, 279394]': [1.0, '[279394.0, 279392.0]'],\n",
              " '[279398, 279397]': [1.0, '[279397.0, 279398.0]'],\n",
              " '[279402, 279403]': [1.0, '[279402.0, 279403.0]'],\n",
              " '[279638, 279639]': [1.0, '[279639.0, 279638.0]'],\n",
              " '[279717, 279718]': [1.0, '[279717.0, 279718.0]'],\n",
              " '[279993, 279994]': [1.0, '[279993.0, 279994.0]'],\n",
              " '[280046, 281756]': [1.0, '[281756.0, 280046.0]'],\n",
              " '[280047, 280048]': [1.0, '[280048.0, 280047.0]'],\n",
              " '[280072, 280071]': [1.0, '[280071.0, 280072.0]'],\n",
              " '[280117, 280118]': [1.0, '[280118.0, 280117.0]'],\n",
              " '[280197, 280199]': [1.0, '[280199.0, 280197.0]'],\n",
              " '[280285, 280280, 280643]': [1.0, '[280285.0, 280643.0, 280280.0]'],\n",
              " '[280473, 280472]': [1.0, '[280472.0, 280473.0]'],\n",
              " '[280572, 280573]': [1.0, '[280572.0, 280573.0]'],\n",
              " '[280611, 280607]': [1.0, '[280611.0, 280607.0]'],\n",
              " '[280765, 280763]': [1.0, '[280765.0, 280763.0]'],\n",
              " '[281070, 281069]': [1.0, '[281069.0, 281070.0]'],\n",
              " '[281188, 281187]': [1.0, '[281187.0, 281188.0]'],\n",
              " '[281236, 281238]': [1.0, '[281236.0, 281238.0]'],\n",
              " '[281355, 281351, 266006, 266007]': [1.0, '[281355.0, 281351.0]'],\n",
              " '[281741, 281739]': [1.0, '[281741.0, 281739.0]'],\n",
              " '[281814, 281813]': [1.0, '[281813.0, 281814.0]'],\n",
              " '[281843, 63275]': [1.0, '[281843.0, 63275.0]'],\n",
              " '[281877, 281876]': [1.0, '[281877.0, 281876.0]'],\n",
              " '[281971, 281972]': [1.0, '[281971.0, 281972.0]'],\n",
              " '[282547, 282540]': [1.0, '[282540.0, 282547.0]'],\n",
              " '[282668, 282669]': [1.0, '[282669.0, 282668.0]'],\n",
              " '[282743, 282744]': [1.0, '[282743.0, 282744.0]'],\n",
              " '[282758, 282759]': [1.0, '[282758.0, 282759.0]'],\n",
              " '[282840, 27918]': [1.0, '[282840.0, 27918.0]'],\n",
              " '[282871, 282870]': [1.0, '[282871.0, 282870.0]'],\n",
              " '[282955, 282952]': [1.0, '[282952.0, 282955.0]'],\n",
              " '[283085, 283083]': [1.0, '[283085.0, 283083.0]'],\n",
              " '[283267, 283264]': [1.0, '[283264.0, 283267.0]'],\n",
              " '[283280, 283293]': [1.0, '[283293.0, 283280.0]'],\n",
              " '[283285, 283291]': [1.0, '[283291.0, 283285.0]'],\n",
              " '[283305, 283303]': [1.0, '[283303.0, 283305.0]'],\n",
              " '[283463, 283461]': [1.0, '[283463.0, 283461.0]'],\n",
              " '[283498, 283500, 283499]': [1.0, '[283498.0, 283499.0, 283500.0]'],\n",
              " '[283552, 283553]': [1.0, '[283552.0, 283553.0]'],\n",
              " '[283588, 283589]': [1.0, '[283589.0, 283588.0]'],\n",
              " '[283646, 274410, 274409]': [1.0, '[274410.0, 274409.0]'],\n",
              " '[283721, 283709]': [1.0, '[283709.0, 283721.0]'],\n",
              " '[283782, 283781]': [1.0, '[283781.0, 283782.0]'],\n",
              " '[283894, 283893, 283891, 283892]': [1.0,\n",
              "  '[283892.0, 283893.0, 283891.0, 283894.0]'],\n",
              " '[283989, 283988]': [1.0, '[283988.0, 283989.0]'],\n",
              " '[284017, 284004]': [1.0, '[284004.0, 284017.0]'],\n",
              " '[284044, 284043]': [1.0, '[284043.0, 284044.0]'],\n",
              " '[284046, 284049]': [1.0, '[284046.0, 284049.0]'],\n",
              " '[284068, 269754]': [0.5, '[269754.0, 269753.0]'],\n",
              " '[284192, 284191]': [1.0, '[284192.0, 284191.0]'],\n",
              " '[284199, 284200]': [1.0, '[284200.0, 284199.0]'],\n",
              " '[284244, 284245]': [1.0, '[284245.0, 284244.0]'],\n",
              " '[284254, 284253]': [1.0, '[284254.0, 284253.0]'],\n",
              " '[284304, 284305]': [1.0, '[284305.0, 284304.0]'],\n",
              " '[284609, 284610]': [1.0, '[284609.0, 284610.0]'],\n",
              " '[284651, 284652]': [1.0, '[284651.0, 284652.0]'],\n",
              " '[284665, 284666]': [1.0, '[284665.0, 284666.0]'],\n",
              " '[284757, 277972]': [1.0, '[284757.0, 277972.0]'],\n",
              " '[284855, 284853]': [1.0, '[284855.0, 284853.0]'],\n",
              " '[284907, 284908]': [1.0, '[284908.0, 284907.0]'],\n",
              " '[285015, 285014]': [1.0, '[285014.0, 285015.0]'],\n",
              " '[285032, 285030, 66470]': [1.0, '[285032.0, 285030.0]'],\n",
              " '[285032, 285030]': [1.0, '[285032.0, 285030.0]'],\n",
              " '[285094, 71007]': [1.0, '[285094.0, 71007.0]'],\n",
              " '[285263, 285262]': [1.0, '[285263.0, 285262.0]'],\n",
              " '[285319, 285320]': [1.0, '[285319.0, 285320.0]'],\n",
              " '[285358, 285356]': [1.0, '[285356.0, 285358.0]'],\n",
              " '[285686, 285685]': [1.0, '[285685.0, 285686.0]'],\n",
              " '[285878, 286875]': [1.0, '[286875.0, 285878.0]'],\n",
              " '[286168, 286167]': [1.0, '[286168.0, 286167.0]'],\n",
              " '[286209, 286211]': [1.0, '[286211.0, 286209.0]'],\n",
              " '[286280, 286279]': [1.0, '[286279.0, 286280.0]'],\n",
              " '[286349, 286348]': [1.0, '[286348.0, 286349.0]'],\n",
              " '[286692, 286694]': [1.0, '[286692.0, 286694.0]'],\n",
              " '[286698, 286699]': [1.0, '[286699.0, 286698.0]'],\n",
              " '[287002, 287001]': [1.0, '[287001.0, 287002.0]'],\n",
              " '[287240, 58294]': [1.0, '[58294.0, 287240.0]'],\n",
              " '[287281, 287282]': [1.0, '[287281.0, 287282.0]'],\n",
              " '[287351, 285015, 285014]': [1.0, '[285014.0, 285015.0]'],\n",
              " '[287609, 287610]': [1.0, '[287609.0, 287610.0]'],\n",
              " '[287777, 287776]': [1.0, '[287777.0, 287776.0]'],\n",
              " '[287804, 287805]': [1.0, '[287805.0, 287804.0]'],\n",
              " '[287943, 287916]': [1.0, '[287943.0, 287916.0]'],\n",
              " '[287948, 287963]': [1.0, '[287948.0, 287963.0]'],\n",
              " '[287992, 287991]': [1.0, '[287992.0, 287991.0]'],\n",
              " '[288077, 288076]': [1.0, '[288076.0, 288077.0]'],\n",
              " '[288081, 288080]': [1.0, '[288080.0, 288081.0]'],\n",
              " '[288312, 288313]': [1.0, '[288313.0, 288312.0]'],\n",
              " '[288332, 288333]': [1.0, '[288332.0, 288333.0]'],\n",
              " '[288345, 287916]': [0.5, '[287943.0, 287916.0]'],\n",
              " '[288355, 288354]': [1.0, '[288354.0, 288355.0]'],\n",
              " '[288357, 288356]': [1.0, '[288357.0, 288356.0]'],\n",
              " '[288380, 288379]': [1.0, '[288379.0, 288380.0]'],\n",
              " '[288594, 292116]': [1.0, '[292116.0, 288594.0]'],\n",
              " '[288607, 288612]': [1.0, '[288612.0, 288607.0]'],\n",
              " '[288971, 288972]': [1.0, '[288971.0, 288972.0]'],\n",
              " '[288981, 290811]': [1.0, '[288981.0, 290811.0]'],\n",
              " '[289013, 289012]': [1.0, '[289012.0, 289013.0]'],\n",
              " '[289124, 289125]': [1.0, '[289124.0, 289125.0]'],\n",
              " '[289138, 289139]': [1.0, '[289139.0, 289138.0]'],\n",
              " '[289165, 289183]': [1.0, '[289183.0, 289165.0]'],\n",
              " '[289168, 289169]': [1.0, '[289169.0, 289168.0]'],\n",
              " '[289171, 289170]': [1.0, '[289171.0, 289170.0]'],\n",
              " '[289571, 289691]': [1.0, '[289691.0, 289571.0]'],\n",
              " '[289640, 289788]': [1.0, '[289788.0, 289640.0]'],\n",
              " '[289678, 289677]': [1.0, '[289677.0, 289678.0]'],\n",
              " '[289744, 289738]': [1.0, '[289738.0, 289744.0]'],\n",
              " '[289812, 289811]': [1.0, '[289811.0, 289812.0]'],\n",
              " '[289864, 289863]': [1.0, '[289864.0, 289863.0]'],\n",
              " '[289927, 289928]': [1.0, '[289928.0, 289927.0]'],\n",
              " '[289976, 289975]': [1.0, '[289975.0, 289976.0]'],\n",
              " '[290006, 289991]': [1.0, '[289991.0, 290006.0]'],\n",
              " '[290011, 290010]': [1.0, '[290010.0, 290011.0]'],\n",
              " '[290065, 290072]': [1.0, '[290072.0, 290065.0]'],\n",
              " '[290170, 290172, 283874, 283875]': [1.0, '[283874.0, 283875.0]'],\n",
              " '[290170, 290172]': [1.0, '[290172.0, 290170.0]'],\n",
              " '[290195, 290197]': [1.0, '[290197.0, 290195.0]'],\n",
              " '[290196, 292075]': [1.0, '[290196.0, 292075.0]'],\n",
              " '[290211, 290214]': [1.0, '[290211.0, 290214.0]'],\n",
              " '[290274, 290273]': [1.0, '[290274.0, 290273.0]'],\n",
              " '[290425, 290424]': [1.0, '[290424.0, 290425.0]'],\n",
              " '[290638, 277770]': [1.0, '[290638.0, 277770.0]'],\n",
              " '[290679, 290749]': [1.0, '[290749.0, 290679.0]'],\n",
              " '[290688, 290684]': [1.0, '[290688.0, 290684.0]'],\n",
              " '[290741, 290740]': [1.0, '[290741.0, 290740.0]'],\n",
              " '[290780, 290695]': [1.0, '[290695.0, 290780.0]'],\n",
              " '[290865, 293804, 293805]': [1.0, '[293804.0, 293805.0]'],\n",
              " '[290868, 290866]': [1.0, '[290866.0, 290868.0]'],\n",
              " '[290880, 290879]': [1.0, '[290880.0, 290879.0]'],\n",
              " '[290909, 290908]': [1.0, '[290909.0, 290908.0]'],\n",
              " '[290935, 290936]': [1.0, '[290936.0, 290935.0]'],\n",
              " '[291003, 291004]': [1.0, '[291003.0, 291004.0]'],\n",
              " '[291016, 291015]': [1.0, '[291016.0, 291015.0]'],\n",
              " '[291036, 291035]': [1.0, '[291035.0, 291036.0]'],\n",
              " '[291134, 291136, 291135]': [1.0, '[291134.0, 291135.0, 291136.0]'],\n",
              " '[291206, 291207]': [1.0, '[291206.0, 291207.0]'],\n",
              " '[291328, 290167]': [1.0, '[290167.0, 291328.0]'],\n",
              " '[291354, 271889]': [1.0, '[291354.0, 271889.0]'],\n",
              " '[291374, 291372]': [1.0, '[291372.0, 291374.0]'],\n",
              " '[291381, 291382]': [1.0, '[291381.0, 291382.0]'],\n",
              " '[291509, 291510]': [1.0, '[291510.0, 291509.0]'],\n",
              " '[291556, 291554]': [1.0, '[291554.0, 291556.0]'],\n",
              " '[291596, 291597]': [1.0, '[291596.0, 291597.0]'],\n",
              " '[291669, 291671]': [1.0, '[291669.0, 291671.0]'],\n",
              " '[291703, 291701]': [1.0, '[291703.0, 291701.0]'],\n",
              " '[291764, 291763]': [1.0, '[291763.0, 291764.0]'],\n",
              " '[291783, 291786]': [1.0, '[291786.0, 291783.0]'],\n",
              " '[291807, 291806]': [1.0, '[291806.0, 291807.0]'],\n",
              " '[291979, 291980]': [1.0, '[291979.0, 291980.0]'],\n",
              " '[292105, 292104]': [1.0, '[292104.0, 292105.0]'],\n",
              " '[292197, 292198]': [1.0, '[292198.0, 292197.0]'],\n",
              " '[292213, 292211]': [1.0, '[292213.0, 292211.0]'],\n",
              " '[292216, 292214]': [1.0, '[292214.0, 292216.0]'],\n",
              " '[292263, 292266]': [1.0, '[292266.0, 292263.0]'],\n",
              " '[292269, 292268]': [1.0, '[292268.0, 292269.0]'],\n",
              " '[292276, 291625]': [1.0, '[291625.0, 292276.0]'],\n",
              " '[292326, 292321]': [1.0, '[292321.0, 292326.0]'],\n",
              " '[292391, 292392]': [1.0, '[292392.0, 292391.0]'],\n",
              " '[292497, 292496]': [1.0, '[292496.0, 292497.0]'],\n",
              " '[292561, 292562]': [1.0, '[292561.0, 292562.0]'],\n",
              " '[293140, 293141]': [1.0, '[293140.0, 293141.0]'],\n",
              " '[293162, 293159]': [1.0, '[293159.0, 293162.0]'],\n",
              " '[293229, 293230]': [1.0, '[293229.0, 293230.0]'],\n",
              " '[293257, 293258]': [0.6666666666666667, '[293257.0, 293258.0, 293259.0]'],\n",
              " '[293257, 293259]': [0.6666666666666667, '[293257.0, 293258.0, 293259.0]'],\n",
              " '[293785, 293786]': [1.0, '[293786.0, 293785.0]'],\n",
              " '[293804, 293805]': [1.0, '[293804.0, 293805.0]'],\n",
              " '[293878, 293879]': [1.0, '[293879.0, 293878.0]'],\n",
              " '[293914, 293915]': [1.0, '[293914.0, 293915.0]'],\n",
              " '[294408, 294407]': [1.0, '[294407.0, 294408.0]'],\n",
              " '[294422, 294423]': [1.0, '[294422.0, 294423.0]'],\n",
              " '[294429, 294428]': [0.6666666666666667, '[294429.0, 294428.0, 294430.0]'],\n",
              " '[294430, 294429]': [0.6666666666666667, '[294429.0, 294428.0, 294430.0]'],\n",
              " '[294434, 294433]': [1.0, '[294433.0, 294434.0]'],\n",
              " '[294882, 294883]': [1.0, '[294882.0, 294883.0]'],\n",
              " '[294900, 294901]': [1.0, '[294900.0, 294901.0]'],\n",
              " '[296137, 296139]': [1.0, '[296137.0, 296139.0]'],\n",
              " '[296155, 296153]': [1.0, '[296153.0, 296155.0]'],\n",
              " '[296178, 296180]': [1.0, '[296180.0, 296178.0]'],\n",
              " '[296484, 296481]': [1.0, '[296481.0, 296484.0]'],\n",
              " '[296712, 296713]': [1.0, '[296712.0, 296713.0]'],\n",
              " '[297716, 297715]': [1.0, '[297716.0, 297715.0]'],\n",
              " '[298973, 287484]': [1.0, '[287484.0, 298973.0]'],\n",
              " '[298980, 298979]': [1.0, '[298979.0, 298980.0]'],\n",
              " '[299011, 299010]': [1.0, '[299011.0, 299010.0]'],\n",
              " '[299982, 299980]': [1.0, '[299980.0, 299982.0]'],\n",
              " '[299999, 299998]': [1.0, '[299998.0, 299999.0]'],\n",
              " '[300009, 300007]': [1.0, '[300009.0, 300007.0]'],\n",
              " '[300101, 300100]': [1.0, '[300101.0, 300100.0]'],\n",
              " '[300105, 300063]': [1.0, '[300063.0, 300105.0]'],\n",
              " '[301356, 301346]': [1.0, '[301346.0, 301356.0]'],\n",
              " '[302360, 302361]': [1.0, '[302361.0, 302360.0]'],\n",
              " '[354629, 354627]': [1.0, '[354627.0, 354629.0]'],\n",
              " '[354728, 354729]': [1.0, '[354729.0, 354728.0]'],\n",
              " '[354744, 354743]': [1.0, '[354743.0, 354744.0]'],\n",
              " '[38384, 38383]': [1.0, '[38384.0, 38383.0]'],\n",
              " '[38879, 38880]': [1.0, '[38880.0, 38879.0]'],\n",
              " '[39557, 39720, 64854]': [1.0, '[39557.0, 39720.0]'],\n",
              " '[39557, 39720]': [1.0, '[39557.0, 39720.0]'],\n",
              " '[39674, 39727]': [1.0, '[39727.0, 39674.0]'],\n",
              " '[39989, 39986]': [1.0, '[39986.0, 39989.0]'],\n",
              " '[40171, 40173]': [1.0, '[40173.0, 40171.0]'],\n",
              " '[40284, 40285]': [1.0, '[40285.0, 40284.0]'],\n",
              " '[40290, 40261]': [1.0, '[40290.0, 40261.0]'],\n",
              " '[40632, 40633]': [0.6666666666666667, '[40632.0, 40634.0, 40633.0]'],\n",
              " '[40633, 40634]': [0.6666666666666667, '[40632.0, 40634.0, 40633.0]'],\n",
              " '[40684, 40683]': [1.0, '[40684.0, 40683.0]'],\n",
              " '[41033, 41032]': [1.0, '[41032.0, 41033.0]'],\n",
              " '[41308, 41311]': [1.0, '[41311.0, 41308.0]'],\n",
              " '[41727, 41725]': [1.0, '[41727.0, 41725.0]'],\n",
              " '[42084, 42085]': [0.6666666666666667, '[42085.0, 42084.0, 247703.0]'],\n",
              " '[42389, 42388]': [1.0, '[42388.0, 42389.0]'],\n",
              " '[43757, 259052]': [1.0, '[259052.0, 43757.0]'],\n",
              " '[43804, 43803]': [1.0, '[43804.0, 43803.0]'],\n",
              " '[44015, 268221]': [1.0, '[268221.0, 44015.0]'],\n",
              " '[44097, 44095]': [1.0, '[44095.0, 44097.0]'],\n",
              " '[44347, 38714]': [1.0, '[38714.0, 44347.0]'],\n",
              " '[44485, 44484]': [1.0, '[44485.0, 44484.0]'],\n",
              " '[44704, 44705, 44707]': [1.0, '[44704.0, 44707.0, 44705.0]'],\n",
              " '[44705, 44707]': [0.6666666666666667, '[44704.0, 44707.0, 44705.0]'],\n",
              " '[44800, 44794]': [1.0, '[44794.0, 44800.0]'],\n",
              " '[44876, 44874]': [1.0, '[44874.0, 44876.0]'],\n",
              " '[45159, 45158]': [1.0, '[45159.0, 45158.0]'],\n",
              " '[45189, 45187]': [1.0, '[45189.0, 45187.0]'],\n",
              " '[45294, 273959]': [1.0, '[273959.0, 45294.0]'],\n",
              " '[45901, 45902]': [1.0, '[45902.0, 45901.0]'],\n",
              " '[46580, 46578]': [1.0, '[46580.0, 46578.0]'],\n",
              " '[47279, 47278]': [1.0, '[47278.0, 47279.0]'],\n",
              " '[47329, 47479]': [1.0, '[47479.0, 47329.0]'],\n",
              " '[47366, 47365]': [1.0, '[47366.0, 47365.0]'],\n",
              " '[47615, 47613]': [1.0, '[47613.0, 47615.0]'],\n",
              " '[48414, 48416]': [1.0, '[48414.0, 48416.0]'],\n",
              " '[49794, 261078]': [1.0, '[261078.0, 49794.0]'],\n",
              " '[50004, 50003]': [1.0, '[50004.0, 50003.0]'],\n",
              " '[50005, 50007]': [1.0, '[50007.0, 50005.0]'],\n",
              " '[50396, 50395]': [1.0, '[50395.0, 50396.0]'],\n",
              " '[50434, 50435]': [1.0, '[50434.0, 50435.0]'],\n",
              " '[50603, 50604]': [1.0, '[50604.0, 50603.0]'],\n",
              " '[50947, 50948]': [1.0, '[50947.0, 50948.0]'],\n",
              " '[50981, 274252]': [0.5, '[274252.0, 274250.0]'],\n",
              " '[51208, 51207]': [1.0, '[51207.0, 51208.0]'],\n",
              " '[51394, 51393]': [1.0, '[51394.0, 51393.0]'],\n",
              " '[52719, 52758]': [1.0, '[52719.0, 52758.0]'],\n",
              " '[53211, 262922]': [1.0, '[262922.0, 53211.0]'],\n",
              " '[53239, 53240]': [1.0, '[53239.0, 53240.0]'],\n",
              " '[53338, 53337]': [1.0, '[53338.0, 53337.0]'],\n",
              " '[54592, 54591]': [1.0, '[54591.0, 54592.0]'],\n",
              " '[54704, 54374]': [1.0, '[54704.0, 54374.0]'],\n",
              " '[55026, 247839]': [1.0, '[247839.0, 55026.0]'],\n",
              " '[55881, 262893]': [1.0, '[55881.0, 262893.0]'],\n",
              " '[55899, 55869]': [1.0, '[55899.0, 55869.0]'],\n",
              " '[56873, 56879]': [1.0, '[56873.0, 56879.0]'],\n",
              " '[56890, 267063]': [0.6666666666666667, '[267063.0, 56890.0, 56892.0]'],\n",
              " '[56890, 56892]': [0.6666666666666667, '[267063.0, 56890.0, 56892.0]'],\n",
              " '[57237, 57238]': [1.0, '[57238.0, 57237.0]'],\n",
              " '[57536, 57535]': [1.0, '[57535.0, 57536.0]'],\n",
              " '[58348, 58451]': [0.6666666666666667, '[58348.0, 58349.0, 58451.0]'],\n",
              " '[58451, 58348, 58349]': [1.0, '[58348.0, 58349.0, 58451.0]'],\n",
              " '[60100, 60099]': [1.0, '[60099.0, 60100.0]'],\n",
              " '[61186, 64122]': [1.0, '[61186.0, 64122.0]'],\n",
              " '[61317, 61316]': [1.0, '[61316.0, 61317.0]'],\n",
              " '[61666, 61665]': [1.0, '[61666.0, 61665.0]'],\n",
              " '[61719, 61720]': [1.0, '[61719.0, 61720.0]'],\n",
              " '[62256, 62255]': [1.0, '[62256.0, 62255.0]'],\n",
              " '[62815, 62816]': [1.0, '[62815.0, 62816.0]'],\n",
              " '[63410, 63413]': [1.0, '[63410.0, 63413.0]'],\n",
              " '[63494, 63492]': [1.0, '[63492.0, 63494.0]'],\n",
              " '[64002, 64001]': [1.0, '[64001.0, 64002.0]'],\n",
              " '[64403, 50981]': [1.0, '[64403.0, 50981.0]'],\n",
              " '[64443, 64444]': [1.0, '[64444.0, 64443.0]'],\n",
              " '[64581, 64580, 64583, 64582]': [1.0, '[64580.0, 64582.0]'],\n",
              " '[65142, 65143]': [1.0, '[65143.0, 65142.0]'],\n",
              " '[65571, 281161]': [1.0, '[281161.0, 65571.0]'],\n",
              " '[65702, 65703]': [1.0, '[65702.0, 65703.0]'],\n",
              " '[66467, 66468]': [1.0, '[66468.0, 66467.0]'],\n",
              " '[66909, 66910]': [1.0, '[66909.0, 66910.0]'],\n",
              " '[67006, 67005]': [1.0, '[67006.0, 67005.0]'],\n",
              " '[67114, 67115]': [1.0, '[67115.0, 67114.0]'],\n",
              " '[67597, 69050]': [1.0, '[69050.0, 67597.0]'],\n",
              " '[67911, 67910]': [1.0, '[67911.0, 67910.0]'],\n",
              " '[68210, 68211]': [1.0, '[68211.0, 68210.0]'],\n",
              " '[68218, 68217]': [1.0, '[68217.0, 68218.0]'],\n",
              " '[68744, 68750]': [1.0, '[68750.0, 68744.0]'],\n",
              " '[69641, 69643]': [1.0, '[69643.0, 69641.0]'],\n",
              " '[70128, 70117]': [1.0, '[70128.0, 70117.0]'],\n",
              " '[70425, 70424]': [1.0, '[70424.0, 70425.0]'],\n",
              " '[71510, 71511]': [1.0, '[71510.0, 71511.0]'],\n",
              " '[71719, 71721]': [1.0, '[71719.0, 71721.0]'],\n",
              " '[72206, 72205]': [1.0, '[72205.0, 72206.0]']}"
            ]
          },
          "metadata": {},
          "execution_count": 38
        }
      ]
    },
    {
      "cell_type": "code",
      "source": [
        "for group in unique_groups:\n",
        "  if '278983' in group:\n",
        "    print(group)"
      ],
      "metadata": {
        "colab": {
          "base_uri": "https://localhost:8080/"
        },
        "id": "vV4Ffoul1CAF",
        "outputId": "f0a4bb82-df30-4d5c-eb3a-2afa8418020f"
      },
      "execution_count": null,
      "outputs": [
        {
          "output_type": "stream",
          "name": "stdout",
          "text": [
            "['278983', '278985']\n"
          ]
        }
      ]
    },
    {
      "cell_type": "code",
      "source": [
        "for group in wechat_group_list:\n",
        "  if 274410 in group:\n",
        "    print(group)"
      ],
      "metadata": {
        "colab": {
          "base_uri": "https://localhost:8080/"
        },
        "id": "4uKI4jBl1e0U",
        "outputId": "cae2b8d4-cf00-41d8-e9eb-263d66d94166"
      },
      "execution_count": null,
      "outputs": [
        {
          "output_type": "stream",
          "name": "stdout",
          "text": [
            "[274410.0, 274409.0]\n"
          ]
        }
      ]
    },
    {
      "cell_type": "code",
      "source": [
        "wechat_group_list"
      ],
      "metadata": {
        "id": "EYwjEiex1m4a"
      },
      "execution_count": null,
      "outputs": []
    },
    {
      "cell_type": "code",
      "source": [
        "overlap_id"
      ],
      "metadata": {
        "id": "PzAXwFME1VTa"
      },
      "execution_count": null,
      "outputs": []
    },
    {
      "cell_type": "code",
      "source": [
        "print(len(groups),len(unique_groups))"
      ],
      "metadata": {
        "id": "U1D_c6ydm7u_",
        "colab": {
          "base_uri": "https://localhost:8080/"
        },
        "outputId": "96af8f50-b5e2-448b-ac60-d3ebfda9a0cf"
      },
      "execution_count": null,
      "outputs": [
        {
          "output_type": "stream",
          "name": "stdout",
          "text": [
            "1139 581\n"
          ]
        }
      ]
    },
    {
      "cell_type": "code",
      "source": [
        "len_unique_groups = []\n",
        "\n",
        "for i in unique_groups:\n",
        "  a = len(i)\n",
        "  len_unique_groups.append(a)"
      ],
      "metadata": {
        "id": "yekZEz0FNH3O"
      },
      "execution_count": null,
      "outputs": []
    },
    {
      "cell_type": "code",
      "source": [
        "counter = collections.Counter(len_unique_groups)\n",
        "print(counter)"
      ],
      "metadata": {
        "colab": {
          "base_uri": "https://localhost:8080/"
        },
        "id": "ZviapIW2q7jZ",
        "outputId": "3031d020-7574-4f5d-fc19-622abb45a238"
      },
      "execution_count": null,
      "outputs": [
        {
          "output_type": "stream",
          "name": "stdout",
          "text": [
            "Counter({2: 547, 3: 29, 4: 4})\n"
          ]
        }
      ]
    },
    {
      "cell_type": "code",
      "source": [
        ""
      ],
      "metadata": {
        "id": "lJO8VVJdq7nc"
      },
      "execution_count": null,
      "outputs": []
    },
    {
      "cell_type": "code",
      "source": [
        ""
      ],
      "metadata": {
        "id": "fU0tXGXDq7qe"
      },
      "execution_count": null,
      "outputs": []
    },
    {
      "cell_type": "code",
      "source": [
        ""
      ],
      "metadata": {
        "id": "GC_wR7eZq7tf"
      },
      "execution_count": null,
      "outputs": []
    },
    {
      "cell_type": "code",
      "source": [
        ""
      ],
      "metadata": {
        "id": "qw4Swgapq7vt"
      },
      "execution_count": null,
      "outputs": []
    },
    {
      "cell_type": "markdown",
      "source": [
        "Try on the total visitation data"
      ],
      "metadata": {
        "id": "7LcXRmTAu34v"
      }
    },
    {
      "cell_type": "code",
      "source": [
        "all_hour_id = visit_time.groupby('use_hour')['source_id'].apply(lambda x: list(np.unique(x)))"
      ],
      "metadata": {
        "id": "9oMEuS3JNIoe"
      },
      "execution_count": null,
      "outputs": []
    },
    {
      "cell_type": "code",
      "source": [
        "all_hour_id = all_hour_id.to_frame().reset_index()"
      ],
      "metadata": {
        "id": "ZcbDzgkBNQnR"
      },
      "execution_count": null,
      "outputs": []
    },
    {
      "cell_type": "code",
      "source": [
        "all_hour_id"
      ],
      "metadata": {
        "id": "NC1b2prXNUZd",
        "colab": {
          "base_uri": "https://localhost:8080/",
          "height": 423
        },
        "outputId": "0d8f52c8-059c-456b-f3ca-019c83819d2f"
      },
      "execution_count": null,
      "outputs": [
        {
          "output_type": "execute_result",
          "data": {
            "text/plain": [
              "           use_hour                                          source_id\n",
              "0     2020-11-01 07                     [42865, 47048, 249681, 249902]\n",
              "1     2020-11-01 08  [45638, 247710, 248016, 248017, 249792, 250315...\n",
              "2     2020-11-01 09  [38482, 40240, 247740, 249052, 249188, 249367,...\n",
              "3     2020-11-01 10  [17118, 40148, 40867, 45831, 46867, 248244, 24...\n",
              "4     2020-11-01 11  [27333, 29734, 37609, 41403, 42864, 44696, 447...\n",
              "...             ...                                                ...\n",
              "4604  2021-10-31 12  [38829, 44833, 47690, 53808, 57413, 60292, 707...\n",
              "4605  2021-10-31 13  [42479, 51118, 67069, 67742, 72132, 258136, 27...\n",
              "4606  2021-10-31 14  [44566, 64398, 255526, 260587, 273950, 274066,...\n",
              "4607  2021-10-31 15     [38642, 62020, 251810, 272685, 283300, 288878]\n",
              "4608  2021-10-31 16            [71143, 257044, 270208, 273886, 290363]\n",
              "\n",
              "[4609 rows x 2 columns]"
            ],
            "text/html": [
              "\n",
              "  <div id=\"df-d6a8831f-366e-4b1f-9d87-d35e22b60e17\">\n",
              "    <div class=\"colab-df-container\">\n",
              "      <div>\n",
              "<style scoped>\n",
              "    .dataframe tbody tr th:only-of-type {\n",
              "        vertical-align: middle;\n",
              "    }\n",
              "\n",
              "    .dataframe tbody tr th {\n",
              "        vertical-align: top;\n",
              "    }\n",
              "\n",
              "    .dataframe thead th {\n",
              "        text-align: right;\n",
              "    }\n",
              "</style>\n",
              "<table border=\"1\" class=\"dataframe\">\n",
              "  <thead>\n",
              "    <tr style=\"text-align: right;\">\n",
              "      <th></th>\n",
              "      <th>use_hour</th>\n",
              "      <th>source_id</th>\n",
              "    </tr>\n",
              "  </thead>\n",
              "  <tbody>\n",
              "    <tr>\n",
              "      <th>0</th>\n",
              "      <td>2020-11-01 07</td>\n",
              "      <td>[42865, 47048, 249681, 249902]</td>\n",
              "    </tr>\n",
              "    <tr>\n",
              "      <th>1</th>\n",
              "      <td>2020-11-01 08</td>\n",
              "      <td>[45638, 247710, 248016, 248017, 249792, 250315...</td>\n",
              "    </tr>\n",
              "    <tr>\n",
              "      <th>2</th>\n",
              "      <td>2020-11-01 09</td>\n",
              "      <td>[38482, 40240, 247740, 249052, 249188, 249367,...</td>\n",
              "    </tr>\n",
              "    <tr>\n",
              "      <th>3</th>\n",
              "      <td>2020-11-01 10</td>\n",
              "      <td>[17118, 40148, 40867, 45831, 46867, 248244, 24...</td>\n",
              "    </tr>\n",
              "    <tr>\n",
              "      <th>4</th>\n",
              "      <td>2020-11-01 11</td>\n",
              "      <td>[27333, 29734, 37609, 41403, 42864, 44696, 447...</td>\n",
              "    </tr>\n",
              "    <tr>\n",
              "      <th>...</th>\n",
              "      <td>...</td>\n",
              "      <td>...</td>\n",
              "    </tr>\n",
              "    <tr>\n",
              "      <th>4604</th>\n",
              "      <td>2021-10-31 12</td>\n",
              "      <td>[38829, 44833, 47690, 53808, 57413, 60292, 707...</td>\n",
              "    </tr>\n",
              "    <tr>\n",
              "      <th>4605</th>\n",
              "      <td>2021-10-31 13</td>\n",
              "      <td>[42479, 51118, 67069, 67742, 72132, 258136, 27...</td>\n",
              "    </tr>\n",
              "    <tr>\n",
              "      <th>4606</th>\n",
              "      <td>2021-10-31 14</td>\n",
              "      <td>[44566, 64398, 255526, 260587, 273950, 274066,...</td>\n",
              "    </tr>\n",
              "    <tr>\n",
              "      <th>4607</th>\n",
              "      <td>2021-10-31 15</td>\n",
              "      <td>[38642, 62020, 251810, 272685, 283300, 288878]</td>\n",
              "    </tr>\n",
              "    <tr>\n",
              "      <th>4608</th>\n",
              "      <td>2021-10-31 16</td>\n",
              "      <td>[71143, 257044, 270208, 273886, 290363]</td>\n",
              "    </tr>\n",
              "  </tbody>\n",
              "</table>\n",
              "<p>4609 rows × 2 columns</p>\n",
              "</div>\n",
              "      <button class=\"colab-df-convert\" onclick=\"convertToInteractive('df-d6a8831f-366e-4b1f-9d87-d35e22b60e17')\"\n",
              "              title=\"Convert this dataframe to an interactive table.\"\n",
              "              style=\"display:none;\">\n",
              "        \n",
              "  <svg xmlns=\"http://www.w3.org/2000/svg\" height=\"24px\"viewBox=\"0 0 24 24\"\n",
              "       width=\"24px\">\n",
              "    <path d=\"M0 0h24v24H0V0z\" fill=\"none\"/>\n",
              "    <path d=\"M18.56 5.44l.94 2.06.94-2.06 2.06-.94-2.06-.94-.94-2.06-.94 2.06-2.06.94zm-11 1L8.5 8.5l.94-2.06 2.06-.94-2.06-.94L8.5 2.5l-.94 2.06-2.06.94zm10 10l.94 2.06.94-2.06 2.06-.94-2.06-.94-.94-2.06-.94 2.06-2.06.94z\"/><path d=\"M17.41 7.96l-1.37-1.37c-.4-.4-.92-.59-1.43-.59-.52 0-1.04.2-1.43.59L10.3 9.45l-7.72 7.72c-.78.78-.78 2.05 0 2.83L4 21.41c.39.39.9.59 1.41.59.51 0 1.02-.2 1.41-.59l7.78-7.78 2.81-2.81c.8-.78.8-2.07 0-2.86zM5.41 20L4 18.59l7.72-7.72 1.47 1.35L5.41 20z\"/>\n",
              "  </svg>\n",
              "      </button>\n",
              "      \n",
              "  <style>\n",
              "    .colab-df-container {\n",
              "      display:flex;\n",
              "      flex-wrap:wrap;\n",
              "      gap: 12px;\n",
              "    }\n",
              "\n",
              "    .colab-df-convert {\n",
              "      background-color: #E8F0FE;\n",
              "      border: none;\n",
              "      border-radius: 50%;\n",
              "      cursor: pointer;\n",
              "      display: none;\n",
              "      fill: #1967D2;\n",
              "      height: 32px;\n",
              "      padding: 0 0 0 0;\n",
              "      width: 32px;\n",
              "    }\n",
              "\n",
              "    .colab-df-convert:hover {\n",
              "      background-color: #E2EBFA;\n",
              "      box-shadow: 0px 1px 2px rgba(60, 64, 67, 0.3), 0px 1px 3px 1px rgba(60, 64, 67, 0.15);\n",
              "      fill: #174EA6;\n",
              "    }\n",
              "\n",
              "    [theme=dark] .colab-df-convert {\n",
              "      background-color: #3B4455;\n",
              "      fill: #D2E3FC;\n",
              "    }\n",
              "\n",
              "    [theme=dark] .colab-df-convert:hover {\n",
              "      background-color: #434B5C;\n",
              "      box-shadow: 0px 1px 3px 1px rgba(0, 0, 0, 0.15);\n",
              "      filter: drop-shadow(0px 1px 2px rgba(0, 0, 0, 0.3));\n",
              "      fill: #FFFFFF;\n",
              "    }\n",
              "  </style>\n",
              "\n",
              "      <script>\n",
              "        const buttonEl =\n",
              "          document.querySelector('#df-d6a8831f-366e-4b1f-9d87-d35e22b60e17 button.colab-df-convert');\n",
              "        buttonEl.style.display =\n",
              "          google.colab.kernel.accessAllowed ? 'block' : 'none';\n",
              "\n",
              "        async function convertToInteractive(key) {\n",
              "          const element = document.querySelector('#df-d6a8831f-366e-4b1f-9d87-d35e22b60e17');\n",
              "          const dataTable =\n",
              "            await google.colab.kernel.invokeFunction('convertToInteractive',\n",
              "                                                     [key], {});\n",
              "          if (!dataTable) return;\n",
              "\n",
              "          const docLinkHtml = 'Like what you see? Visit the ' +\n",
              "            '<a target=\"_blank\" href=https://colab.research.google.com/notebooks/data_table.ipynb>data table notebook</a>'\n",
              "            + ' to learn more about interactive tables.';\n",
              "          element.innerHTML = '';\n",
              "          dataTable['output_type'] = 'display_data';\n",
              "          await google.colab.output.renderOutput(dataTable, element);\n",
              "          const docLink = document.createElement('div');\n",
              "          docLink.innerHTML = docLinkHtml;\n",
              "          element.appendChild(docLink);\n",
              "        }\n",
              "      </script>\n",
              "    </div>\n",
              "  </div>\n",
              "  "
            ]
          },
          "metadata": {},
          "execution_count": 48
        }
      ]
    },
    {
      "cell_type": "code",
      "source": [
        "explode_id = all_hour_id.explode('source_id', ignore_index = True)"
      ],
      "metadata": {
        "id": "ctlnGPE_tRS1"
      },
      "execution_count": null,
      "outputs": []
    },
    {
      "cell_type": "code",
      "source": [
        "network_id = explode_id.source_id"
      ],
      "metadata": {
        "id": "1jnMYt9gtVGU"
      },
      "execution_count": null,
      "outputs": []
    },
    {
      "cell_type": "code",
      "source": [
        "wechat_df = pd.DataFrame(wechat_group)\n",
        "wechat_df = wechat_df.melt()"
      ],
      "metadata": {
        "id": "cwGg9L0auX1S"
      },
      "execution_count": null,
      "outputs": []
    },
    {
      "cell_type": "code",
      "source": [
        "wechat_df.dropna(inplace = True)"
      ],
      "metadata": {
        "id": "gxc2F32RvlXE"
      },
      "execution_count": null,
      "outputs": []
    },
    {
      "cell_type": "code",
      "source": [
        "wechat_id = wechat_df.value"
      ],
      "metadata": {
        "id": "iFH23gAPuw0r"
      },
      "execution_count": null,
      "outputs": []
    },
    {
      "cell_type": "code",
      "source": [
        "wechat_id_set = set(wechat_id)\n",
        "network_id_set = set(network_id)"
      ],
      "metadata": {
        "id": "R-JDna0cvrIk"
      },
      "execution_count": null,
      "outputs": []
    },
    {
      "cell_type": "code",
      "source": [
        "for id in network_id_set:\n",
        "  for group in wechat_group:\n",
        "    if id in group:\n",
        "      print(id, group)\n",
        "    "
      ],
      "metadata": {
        "id": "S9ssMDDOxoiW"
      },
      "execution_count": null,
      "outputs": []
    },
    {
      "cell_type": "code",
      "source": [
        "network_id_set.intersection(wechat_id_set)"
      ],
      "metadata": {
        "id": "L8ksWD0Ov-G9",
        "colab": {
          "base_uri": "https://localhost:8080/"
        },
        "outputId": "fe62bdb6-d61f-4663-e78c-485042a8072d"
      },
      "execution_count": null,
      "outputs": [
        {
          "output_type": "execute_result",
          "data": {
            "text/plain": [
              "{299010.0,\n",
              " 299011.0,\n",
              " 63492.0,\n",
              " 63494.0,\n",
              " 51207.0,\n",
              " 262151.0,\n",
              " 51208.0,\n",
              " 69641.0,\n",
              " 270347.0,\n",
              " 69643.0,\n",
              " 268301.0,\n",
              " 67597.0,\n",
              " 270348.0,\n",
              " 268302.0,\n",
              " 278547.0,\n",
              " 278548.0,\n",
              " 272408.0,\n",
              " 270360.0,\n",
              " 278553.0,\n",
              " 262171.0,\n",
              " 272409.0,\n",
              " 262170.0,\n",
              " 278552.0,\n",
              " 247839.0,\n",
              " 278560.0,\n",
              " 59425.0,\n",
              " 270368.0,\n",
              " 280611.0,\n",
              " 65571.0,\n",
              " 280607.0,\n",
              " 278562.0,\n",
              " 71719.0,\n",
              " 256041.0,\n",
              " 71721.0,\n",
              " 282668.0,\n",
              " 282669.0,\n",
              " 266285.0,\n",
              " 290865.0,\n",
              " 290866.0,\n",
              " 276531.0,\n",
              " 272436.0,\n",
              " 274485.0,\n",
              " 276532.0,\n",
              " 274484.0,\n",
              " 258100.0,\n",
              " 290868.0,\n",
              " 256049.0,\n",
              " 254011.0,\n",
              " 272439.0,\n",
              " 254013.0,\n",
              " 276541.0,\n",
              " 290879.0,\n",
              " 290880.0,\n",
              " 276542.0,\n",
              " 280643.0,\n",
              " 41032.0,\n",
              " 41033.0,\n",
              " 270412.0,\n",
              " 284757.0,\n",
              " 53337.0,\n",
              " 270426.0,\n",
              " 53338.0,\n",
              " 270428.0,\n",
              " 290909.0,\n",
              " 290908.0,\n",
              " 45158.0,\n",
              " 45159.0,\n",
              " 274540.0,\n",
              " 67700.0,\n",
              " 268405.0,\n",
              " 268406.0,\n",
              " 67703.0,\n",
              " 290935.0,\n",
              " 282744.0,\n",
              " 282743.0,\n",
              " 290936.0,\n",
              " 276604.0,\n",
              " 276605.0,\n",
              " 276606.0,\n",
              " 45187.0,\n",
              " 45189.0,\n",
              " 282758.0,\n",
              " 282759.0,\n",
              " 276618.0,\n",
              " 276620.0,\n",
              " 276621.0,\n",
              " 262290.0,\n",
              " 286875.0,\n",
              " 262304.0,\n",
              " 262306.0,\n",
              " 270499.0,\n",
              " 270500.0,\n",
              " 65702.0,\n",
              " 65703.0,\n",
              " 47278.0,\n",
              " 47279.0,\n",
              " 258228.0,\n",
              " 284853.0,\n",
              " 270518.0,\n",
              " 284855.0,\n",
              " 258232.0,\n",
              " 258234.0,\n",
              " 291003.0,\n",
              " 280763.0,\n",
              " 280765.0,\n",
              " 186557.0,\n",
              " 57535.0,\n",
              " 291004.0,\n",
              " 51393.0,\n",
              " 51394.0,\n",
              " 59587.0,\n",
              " 264387.0,\n",
              " 264388.0,\n",
              " 57536.0,\n",
              " 276679.0,\n",
              " 291016.0,\n",
              " 276681.0,\n",
              " 291015.0,\n",
              " 288971.0,\n",
              " 288972.0,\n",
              " 248016.0,\n",
              " 248017.0,\n",
              " 248018.0,\n",
              " 288981.0,\n",
              " 276694.0,\n",
              " 282840.0,\n",
              " 276696.0,\n",
              " 291035.0,\n",
              " 270555.0,\n",
              " 291036.0,\n",
              " 61665.0,\n",
              " 61666.0,\n",
              " 47329.0,\n",
              " 270564.0,\n",
              " 270563.0,\n",
              " 272614.0,\n",
              " 272615.0,\n",
              " 354533.0,\n",
              " 260329.0,\n",
              " 260330.0,\n",
              " 284907.0,\n",
              " 284908.0,\n",
              " 45294.0,\n",
              " 262387.0,\n",
              " 289012.0,\n",
              " 289013.0,\n",
              " 282870.0,\n",
              " 282871.0,\n",
              " 53500.0,\n",
              " 278781.0,\n",
              " 276740.0,\n",
              " 278788.0,\n",
              " 47366.0,\n",
              " 276742.0,\n",
              " 274696.0,\n",
              " 260361.0,\n",
              " 274697.0,\n",
              " 278794.0,\n",
              " 47365.0,\n",
              " 260360.0,\n",
              " 260367.0,\n",
              " 260368.0,\n",
              " 278800.0,\n",
              " 278801.0,\n",
              " 293140.0,\n",
              " 293141.0,\n",
              " 61719.0,\n",
              " 61720.0,\n",
              " 287001.0,\n",
              " 287002.0,\n",
              " 254235.0,\n",
              " 270617.0,\n",
              " 270621.0,\n",
              " 260382.0,\n",
              " 260380.0,\n",
              " 254233.0,\n",
              " 270620.0,\n",
              " 301346.0,\n",
              " 262437.0,\n",
              " 270631.0,\n",
              " 293159.0,\n",
              " 262441.0,\n",
              " 270633.0,\n",
              " 293162.0,\n",
              " 301356.0,\n",
              " 270632.0,\n",
              " 260405.0,\n",
              " 260406.0,\n",
              " 291128.0,\n",
              " 291130.0,\n",
              " 291134.0,\n",
              " 291135.0,\n",
              " 291136.0,\n",
              " 354627.0,\n",
              " 272708.0,\n",
              " 354629.0,\n",
              " 67910.0,\n",
              " 67911.0,\n",
              " 282952.0,\n",
              " 264520.0,\n",
              " 282955.0,\n",
              " 188750.0,\n",
              " 260431.0,\n",
              " 264527.0,\n",
              " 260432.0,\n",
              " 188751.0,\n",
              " 285014.0,\n",
              " 285015.0,\n",
              " 248153.0,\n",
              " 274779.0,\n",
              " 274780.0,\n",
              " 248157.0,\n",
              " 250206.0,\n",
              " 41311.0,\n",
              " 250207.0,\n",
              " 41308.0,\n",
              " 289124.0,\n",
              " 289125.0,\n",
              " 285030.0,\n",
              " 285032.0,\n",
              " 293229.0,\n",
              " 293230.0,\n",
              " 278895.0,\n",
              " 278896.0,\n",
              " 289138.0,\n",
              " 289139.0,\n",
              " 276853.0,\n",
              " 284199.0,\n",
              " 47479.0,\n",
              " 293240.0,\n",
              " 276855.0,\n",
              " 293241.0,\n",
              " 262530.0,\n",
              " 262533.0,\n",
              " 291206.0,\n",
              " 254343.0,\n",
              " 254344.0,\n",
              " 293257.0,\n",
              " 291207.0,\n",
              " 293258.0,\n",
              " 293259.0,\n",
              " 289165.0,\n",
              " 289168.0,\n",
              " 289169.0,\n",
              " 289170.0,\n",
              " 289171.0,\n",
              " 258452.0,\n",
              " 258453.0,\n",
              " 276888.0,\n",
              " 256413.0,\n",
              " 289183.0,\n",
              " 266661.0,\n",
              " 285094.0,\n",
              " 266662.0,\n",
              " 354728.0,\n",
              " 354729.0,\n",
              " 256431.0,\n",
              " 354743.0,\n",
              " 354744.0,\n",
              " 260535.0,\n",
              " 252346.0,\n",
              " 252345.0,\n",
              " 281022.0,\n",
              " 281024.0,\n",
              " 256449.0,\n",
              " 256448.0,\n",
              " 278983.0,\n",
              " 278985.0,\n",
              " 283083.0,\n",
              " 252364.0,\n",
              " 283085.0,\n",
              " 248279.0,\n",
              " 264663.0,\n",
              " 248281.0,\n",
              " 252376.0,\n",
              " 252379.0,\n",
              " 272860.0,\n",
              " 272862.0,\n",
              " 270815.0,\n",
              " 262626.0,\n",
              " 262627.0,\n",
              " 272867.0,\n",
              " 70117.0,\n",
              " 272870.0,\n",
              " 18919.0,\n",
              " 18920.0,\n",
              " 262633.0,\n",
              " 262634.0,\n",
              " 262628.0,\n",
              " 281069.0,\n",
              " 281070.0,\n",
              " 70128.0,\n",
              " 262650.0,\n",
              " 47613.0,\n",
              " 264701.0,\n",
              " 47615.0,\n",
              " 291328.0,\n",
              " 64001.0,\n",
              " 262657.0,\n",
              " 262656.0,\n",
              " 64002.0,\n",
              " 276997.0,\n",
              " 252423.0,\n",
              " 276999.0,\n",
              " 252424.0,\n",
              " 256519.0,\n",
              " 256522.0,\n",
              " 287240.0,\n",
              " 266763.0,\n",
              " 72205.0,\n",
              " 266766.0,\n",
              " 252430.0,\n",
              " 268816.0,\n",
              " 72206.0,\n",
              " 268812.0,\n",
              " 252428.0,\n",
              " 268818.0,\n",
              " 283891.0,\n",
              " 291354.0,\n",
              " 250396.0,\n",
              " 250398.0,\n",
              " 277030.0,\n",
              " 277032.0,\n",
              " 264745.0,\n",
              " 264746.0,\n",
              " 274986.0,\n",
              " 291372.0,\n",
              " 274985.0,\n",
              " 291374.0,\n",
              " 274991.0,\n",
              " 274992.0,\n",
              " 287281.0,\n",
              " 287282.0,\n",
              " 279091.0,\n",
              " 291381.0,\n",
              " 279093.0,\n",
              " 291382.0,\n",
              " 55869.0,\n",
              " 55881.0,\n",
              " 281161.0,\n",
              " 262729.0,\n",
              " 264780.0,\n",
              " 264778.0,\n",
              " 285262.0,\n",
              " 279119.0,\n",
              " 285263.0,\n",
              " 272984.0,\n",
              " 272985.0,\n",
              " 55899.0,\n",
              " 277085.0,\n",
              " 277087.0,\n",
              " 264799.0,\n",
              " 272992.0,\n",
              " 272994.0,\n",
              " 281187.0,\n",
              " 270948.0,\n",
              " 264800.0,\n",
              " 281188.0,\n",
              " 272993.0,\n",
              " 250476.0,\n",
              " 250479.0,\n",
              " 68210.0,\n",
              " 68211.0,\n",
              " 292391.0,\n",
              " 287351.0,\n",
              " 68217.0,\n",
              " 68218.0,\n",
              " 64122.0,\n",
              " 266877.0,\n",
              " 283264.0,\n",
              " 279169.0,\n",
              " 266881.0,\n",
              " 279168.0,\n",
              " 186559.0,\n",
              " 39557.0,\n",
              " 273029.0,\n",
              " 285319.0,\n",
              " 285320.0,\n",
              " 273026.0,\n",
              " 354954.0,\n",
              " 283267.0,\n",
              " 283280.0,\n",
              " 187027.0,\n",
              " 281236.0,\n",
              " 283285.0,\n",
              " 281238.0,\n",
              " 273046.0,\n",
              " 283291.0,\n",
              " 283293.0,\n",
              " 277150.0,\n",
              " 277151.0,\n",
              " 49794.0,\n",
              " 284665.0,\n",
              " 250530.0,\n",
              " 250534.0,\n",
              " 283303.0,\n",
              " 283305.0,\n",
              " 285356.0,\n",
              " 285358.0,\n",
              " 291509.0,\n",
              " 291510.0,\n",
              " 276530.0,\n",
              " 252610.0,\n",
              " 60099.0,\n",
              " 252611.0,\n",
              " 60100.0,\n",
              " 279239.0,\n",
              " 279240.0,\n",
              " 256715.0,\n",
              " 256716.0,\n",
              " 269006.0,\n",
              " 297684.0,\n",
              " 297685.0,\n",
              " 262879.0,\n",
              " 266976.0,\n",
              " 291554.0,\n",
              " 291556.0,\n",
              " 266988.0,\n",
              " 262893.0,\n",
              " 43757.0,\n",
              " 297715.0,\n",
              " 297716.0,\n",
              " 266997.0,\n",
              " 39674.0,\n",
              " 275196.0,\n",
              " 287484.0,\n",
              " 275197.0,\n",
              " 41727.0,\n",
              " 277248.0,\n",
              " 277249.0,\n",
              " 41725.0,\n",
              " 281351.0,\n",
              " 27400.0,\n",
              " 27401.0,\n",
              " 262922.0,\n",
              " 281355.0,\n",
              " 275211.0,\n",
              " 291596.0,\n",
              " 275212.0,\n",
              " 291597.0,\n",
              " 273169.0,\n",
              " 267025.0,\n",
              " 70424.0,\n",
              " 70425.0,\n",
              " 43803.0,\n",
              " 43804.0,\n",
              " 289571.0,\n",
              " 39720.0,\n",
              " 291625.0,\n",
              " 39727.0,\n",
              " 62256.0,\n",
              " 62255.0,\n",
              " 267063.0,\n",
              " 269119.0,\n",
              " 262979.0,\n",
              " 283461.0,\n",
              " 275270.0,\n",
              " 283463.0,\n",
              " 275271.0,\n",
              " 277321.0,\n",
              " 277322.0,\n",
              " 45901.0,\n",
              " 45902.0,\n",
              " 262990.0,\n",
              " 279376.0,\n",
              " 279377.0,\n",
              " 262993.0,\n",
              " 50003.0,\n",
              " 50004.0,\n",
              " 291669.0,\n",
              " 267093.0,\n",
              " 50007.0,\n",
              " 269143.0,\n",
              " 265046.0,\n",
              " 54106.0,\n",
              " 291671.0,\n",
              " 50005.0,\n",
              " 265045.0,\n",
              " 265055.0,\n",
              " 279392.0,\n",
              " 265057.0,\n",
              " 279394.0,\n",
              " 267106.0,\n",
              " 267108.0,\n",
              " 279397.0,\n",
              " 279398.0,\n",
              " 267105.0,\n",
              " 289640.0,\n",
              " 265058.0,\n",
              " 283498.0,\n",
              " 279402.0,\n",
              " 265068.0,\n",
              " 283499.0,\n",
              " 279403.0,\n",
              " 283500.0,\n",
              " 265072.0,\n",
              " 260284.0,\n",
              " 291701.0,\n",
              " 291703.0,\n",
              " 287609.0,\n",
              " 287610.0,\n",
              " 289677.0,\n",
              " 289678.0,\n",
              " 64403.0,\n",
              " 293785.0,\n",
              " 293786.0,\n",
              " 289691.0,\n",
              " 283552.0,\n",
              " 250785.0,\n",
              " 283553.0,\n",
              " 250787.0,\n",
              " 66468.0,\n",
              " 269219.0,\n",
              " 60325.0,\n",
              " 66467.0,\n",
              " 66470.0,\n",
              " 273322.0,\n",
              " 273323.0,\n",
              " 293804.0,\n",
              " 293805.0,\n",
              " 291763.0,\n",
              " 291764.0,\n",
              " 58294.0,\n",
              " 269240.0,\n",
              " 261050.0,\n",
              " 261051.0,\n",
              " 64444.0,\n",
              " 64443.0,\n",
              " 277440.0,\n",
              " 277441.0,\n",
              " 283588.0,\n",
              " 283589.0,\n",
              " 267206.0,\n",
              " 267207.0,\n",
              " 291783.0,\n",
              " 291786.0,\n",
              " 289738.0,\n",
              " 275404.0,\n",
              " 299980.0,\n",
              " 275405.0,\n",
              " 299982.0,\n",
              " 273360.0,\n",
              " 289744.0,\n",
              " 277458.0,\n",
              " 263123.0,\n",
              " 277460.0,\n",
              " 261078.0,\n",
              " 299998.0,\n",
              " 291806.0,\n",
              " 299999.0,\n",
              " 187361.0,\n",
              " 291807.0,\n",
              " 187363.0,\n",
              " 252898.0,\n",
              " 187362.0,\n",
              " 300007.0,\n",
              " 300009.0,\n",
              " 265194.0,\n",
              " 58348.0,\n",
              " 257004.0,\n",
              " 259052.0,\n",
              " 58349.0,\n",
              " 257006.0,\n",
              " 44015.0,\n",
              " 285685.0,\n",
              " 293878.0,\n",
              " 293879.0,\n",
              " 285686.0,\n",
              " 252921.0,\n",
              " 252922.0,\n",
              " 289788.0,\n",
              " 259069.0,\n",
              " 283646.0,\n",
              " 263166.0,\n",
              " 265222.0,\n",
              " 265223.0,\n",
              " 265225.0,\n",
              " 275471.0,\n",
              " 275472.0,\n",
              " 261139.0,\n",
              " 289811.0,\n",
              " 289812.0,\n",
              " 293914.0,\n",
              " 293915.0,\n",
              " 300063.0,\n",
              " 287776.0,\n",
              " 287777.0,\n",
              " 187424.0,\n",
              " 269353.0,\n",
              " 269355.0,\n",
              " 259121.0,\n",
              " 39986.0,\n",
              " 259122.0,\n",
              " 263221.0,\n",
              " 39989.0,\n",
              " 56375.0,\n",
              " 263222.0,\n",
              " 287804.0,\n",
              " 287805.0,\n",
              " 283709.0,\n",
              " 269375.0,\n",
              " 44095.0,\n",
              " 44097.0,\n",
              " 265281.0,\n",
              " 269376.0,\n",
              " 300100.0,\n",
              " 265283.0,\n",
              " 64580.0,\n",
              " 300101.0,\n",
              " 64581.0,\n",
              " 275524.0,\n",
              " 289864.0,\n",
              " 64582.0,\n",
              " 289863.0,\n",
              " 283721.0,\n",
              " 261196.0,\n",
              " 261197.0,\n",
              " 269390.0,\n",
              " 269388.0,\n",
              " 300105.0,\n",
              " 273489.0,\n",
              " 273490.0,\n",
              " 58451.0,\n",
              " 279638.0,\n",
              " 279639.0,\n",
              " 269400.0,\n",
              " 277593.0,\n",
              " 277594.0,\n",
              " 42084.0,\n",
              " 42085.0,\n",
              " 54374.0,\n",
              " 259183.0,\n",
              " 250993.0,\n",
              " 250996.0,\n",
              " 251003.0,\n",
              " 275582.0,\n",
              " 275584.0,\n",
              " 283781.0,\n",
              " 283782.0,\n",
              " 277638.0,\n",
              " 289927.0,\n",
              " 289928.0,\n",
              " 277640.0,\n",
              " 68744.0,\n",
              " 291979.0,\n",
              " 291980.0,\n",
              " 281741.0,\n",
              " 275598.0,\n",
              " 68750.0,\n",
              " 281739.0,\n",
              " 275599.0,\n",
              " 255122.0,\n",
              " 289947.0,\n",
              " 281756.0,\n",
              " 279717.0,\n",
              " 279718.0,\n",
              " 273576.0,\n",
              " 255145.0,\n",
              " 255144.0,\n",
              " 255147.0,\n",
              " 287916.0,\n",
              " 285878.0,\n",
              " 289975.0,\n",
              " 289976.0,\n",
              " 267449.0,\n",
              " 267448.0,\n",
              " 255172.0,\n",
              " 287943.0,\n",
              " 289991.0,\n",
              " 296137.0,\n",
              " 275658.0,\n",
              " 251079.0,\n",
              " 275659.0,\n",
              " 251084.0,\n",
              " 287948.0,\n",
              " 257230.0,\n",
              " 275663.0,\n",
              " 257228.0,\n",
              " 277713.0,\n",
              " 277711.0,\n",
              " 296139.0,\n",
              " 275668.0,\n",
              " 281813.0,\n",
              " 290006.0,\n",
              " 281814.0,\n",
              " 267480.0,\n",
              " 296153.0,\n",
              " 290011.0,\n",
              " 267482.0,\n",
              " 50395.0,\n",
              " 290010.0,\n",
              " 287963.0,\n",
              " 261342.0,\n",
              " 261341.0,\n",
              " 50396.0,\n",
              " 296155.0,\n",
              " 283874.0,\n",
              " 283875.0,\n",
              " 287971.0,\n",
              " 287974.0,\n",
              " 273639.0,\n",
              " 273640.0,\n",
              " 269546.0,\n",
              " 273643.0,\n",
              " 269547.0,\n",
              " 269548.0,\n",
              " 40173.0,\n",
              " 40171.0,\n",
              " 251119.0,\n",
              " 267504.0,\n",
              " 267505.0,\n",
              " 296178.0,\n",
              " 281843.0,\n",
              " 296180.0,\n",
              " 283892.0,\n",
              " 257270.0,\n",
              " 257269.0,\n",
              " 287992.0,\n",
              " 287991.0,\n",
              " 283893.0,\n",
              " 267515.0,\n",
              " 283894.0,\n",
              " 267522.0,\n",
              " 50434.0,\n",
              " 50435.0,\n",
              " 292104.0,\n",
              " 271625.0,\n",
              " 257288.0,\n",
              " 275723.0,\n",
              " 275722.0,\n",
              " 277770.0,\n",
              " 292105.0,\n",
              " 255246.0,\n",
              " 257289.0,\n",
              " 255247.0,\n",
              " 290065.0,\n",
              " 271626.0,\n",
              " 27918.0,\n",
              " 292116.0,\n",
              " 281877.0,\n",
              " 281876.0,\n",
              " 290072.0,\n",
              " 277785.0,\n",
              " 302361.0,\n",
              " 277784.0,\n",
              " 302360.0,\n",
              " 48414.0,\n",
              " 251166.0,\n",
              " 271648.0,\n",
              " 261409.0,\n",
              " 48416.0,\n",
              " 261411.0,\n",
              " 187686.0,\n",
              " 187687.0,\n",
              " 265531.0,\n",
              " 44347.0,\n",
              " 269628.0,\n",
              " 271679.0,\n",
              " 269631.0,\n",
              " 54591.0,\n",
              " 271680.0,\n",
              " 267587.0,\n",
              " 54592.0,\n",
              " 40261.0,\n",
              " 267586.0,\n",
              " 64583.0,\n",
              " 288076.0,\n",
              " 288077.0,\n",
              " 288080.0,\n",
              " 255313.0,\n",
              " 288081.0,\n",
              " 255312.0,\n",
              " 283988.0,\n",
              " 283989.0,\n",
              " 64854.0,\n",
              " 271707.0,\n",
              " 40284.0,\n",
              " 271709.0,\n",
              " 66910.0,\n",
              " 71007.0,\n",
              " 259424.0,\n",
              " 40285.0,\n",
              " 66909.0,\n",
              " 62815.0,\n",
              " 281950.0,\n",
              " 259425.0,\n",
              " 259426.0,\n",
              " 40290.0,\n",
              " 284004.0,\n",
              " 62816.0,\n",
              " 292198.0,\n",
              " 261479.0,\n",
              " 261480.0,\n",
              " 292197.0,\n",
              " 261482.0,\n",
              " 273771.0,\n",
              " 273772.0,\n",
              " 261483.0,\n",
              " 284017.0,\n",
              " 281971.0,\n",
              " 281972.0,\n",
              " 292213.0,\n",
              " 292214.0,\n",
              " 290167.0,\n",
              " 292211.0,\n",
              " 292216.0,\n",
              " 290170.0,\n",
              " 290172.0,\n",
              " 261501.0,\n",
              " 261502.0,\n",
              " 259453.0,\n",
              " 259457.0,\n",
              " 269701.0,\n",
              " 267656.0,\n",
              " 284043.0,\n",
              " 269708.0,\n",
              " 271756.0,\n",
              " 284046.0,\n",
              " 271755.0,\n",
              " 284044.0,\n",
              " 284049.0,\n",
              " 257422.0,\n",
              " 290195.0,\n",
              " 42388.0,\n",
              " 290197.0,\n",
              " 273814.0,\n",
              " 290196.0,\n",
              " 42389.0,\n",
              " 273815.0,\n",
              " 273813.0,\n",
              " 257435.0,\n",
              " 290211.0,\n",
              " 284068.0,\n",
              " 290214.0,\n",
              " 292263.0,\n",
              " 292266.0,\n",
              " 50603.0,\n",
              " 292268.0,\n",
              " 50604.0,\n",
              " 292269.0,\n",
              " 277936.0,\n",
              " 54704.0,\n",
              " 277937.0,\n",
              " 292276.0,\n",
              " 277943.0,\n",
              " 279993.0,\n",
              " 269754.0,\n",
              " 69050.0,\n",
              " 269753.0,\n",
              " 279994.0,\n",
              " 67006.0,\n",
              " 67005.0,\n",
              " 269764.0,\n",
              " 44485.0,\n",
              " 44484.0,\n",
              " 251335.0,\n",
              " 251336.0,\n",
              " 261582.0,\n",
              " 271823.0,\n",
              " 259536.0,\n",
              " 261583.0,\n",
              " 277972.0,\n",
              " 286167.0,\n",
              " 286168.0,\n",
              " 267741.0,\n",
              " 292321.0,\n",
              " 290274.0,\n",
              " 290273.0,\n",
              " 275941.0,\n",
              " 269798.0,\n",
              " 267750.0,\n",
              " 267752.0,\n",
              " 267753.0,\n",
              " 269802.0,\n",
              " 292326.0,\n",
              " 277996.0,\n",
              " 277995.0,\n",
              " 280046.0,\n",
              " 52719.0,\n",
              " 38384.0,\n",
              " 280048.0,\n",
              " 275952.0,\n",
              " 38383.0,\n",
              " 46580.0,\n",
              " 280047.0,\n",
              " 255478.0,\n",
              " 275955.0,\n",
              " 255480.0,\n",
              " 46578.0,\n",
              " 286209.0,\n",
              " 286211.0,\n",
              " 294407.0,\n",
              " 280071.0,\n",
              " 294408.0,\n",
              " 280072.0,\n",
              " 271889.0,\n",
              " 71186.0,\n",
              " 294422.0,\n",
              " 52758.0,\n",
              " 294423.0,\n",
              " 294428.0,\n",
              " 269852.0,\n",
              " 294430.0,\n",
              " 275999.0,\n",
              " 294429.0,\n",
              " 60961.0,\n",
              " 275998.0,\n",
              " 284191.0,\n",
              " 284192.0,\n",
              " 294433.0,\n",
              " 296481.0,\n",
              " 263712.0,\n",
              " 263714.0,\n",
              " 294434.0,\n",
              " 296484.0,\n",
              " 273959.0,\n",
              " 292392.0,\n",
              " 56873.0,\n",
              " 284200.0,\n",
              " 67115.0,\n",
              " 26152.0,\n",
              " 56879.0,\n",
              " 67114.0,\n",
              " 26154.0,\n",
              " 276019.0,\n",
              " 280117.0,\n",
              " 280118.0,\n",
              " 288312.0,\n",
              " 288313.0,\n",
              " 56890.0,\n",
              " 269381.0,\n",
              " 56892.0,\n",
              " 286279.0,\n",
              " 286280.0,\n",
              " 288332.0,\n",
              " 288333.0,\n",
              " 274000.0,\n",
              " 274001.0,\n",
              " 274003.0,\n",
              " 274004.0,\n",
              " 284245.0,\n",
              " 284244.0,\n",
              " 53239.0,\n",
              " 53240.0,\n",
              " 274009.0,\n",
              " 288345.0,\n",
              " 274011.0,\n",
              " 274012.0,\n",
              " 284253.0,\n",
              " 284254.0,\n",
              " 292075.0,\n",
              " 288354.0,\n",
              " 288355.0,\n",
              " 288356.0,\n",
              " 288357.0,\n",
              " 271974.0,\n",
              " 271975.0,\n",
              " 253550.0,\n",
              " 253551.0,\n",
              " 269936.0,\n",
              " 274033.0,\n",
              " 274032.0,\n",
              " 269939.0,\n",
              " 269940.0,\n",
              " 267892.0,\n",
              " 65142.0,\n",
              " 65143.0,\n",
              " 267895.0,\n",
              " 290424.0,\n",
              " 274038.0,\n",
              " 288379.0,\n",
              " 288380.0,\n",
              " 290425.0,\n",
              " 280197.0,\n",
              " 280199.0,\n",
              " 286348.0,\n",
              " 286349.0,\n",
              " 63118.0,\n",
              " 292496.0,\n",
              " 284305.0,\n",
              " 292497.0,\n",
              " 284304.0,\n",
              " 263828.0,\n",
              " 263830.0,\n",
              " 279170.0,\n",
              " 44704.0,\n",
              " 272033.0,\n",
              " 272034.0,\n",
              " 44707.0,\n",
              " 267938.0,\n",
              " 267941.0,\n",
              " 71333.0,\n",
              " 276134.0,\n",
              " 44705.0,\n",
              " 265900.0,\n",
              " 265902.0,\n",
              " 272048.0,\n",
              " 272049.0,\n",
              " 270003.0,\n",
              " 267957.0,\n",
              " ...}"
            ]
          },
          "metadata": {},
          "execution_count": 50
        }
      ]
    },
    {
      "cell_type": "code",
      "source": [
        "from itertools import combinations\n",
        "G1 = nx.Graph()\n",
        "\n",
        "for i in range(len(all_hour_id)):\n",
        "    for j in range(len(all_hour_id['source_id'][i])):\n",
        "        if str(all_hour_id['source_id'][i][j]) not in G1.nodes():\n",
        "            G1.add_node(str(all_hour_id['source_id'][i][j]),weight = 1)\n",
        "        else:\n",
        "            G1.nodes[str(all_hour_id['source_id'][i][j])]['weight'] += 1\n",
        "            \n",
        "    edge_combinations = list(combinations(all_hour_id['source_id'][i],2))\n",
        "    for combination in edge_combinations:\n",
        "        if (str(combination[0]),str(combination[1])) not in G1.edges():\n",
        "            G1.add_edge(str(combination[0]),str(combination[1]),weight=1)\n",
        "        else:\n",
        "            G1.edges[str(combination[0]),str(combination[1])]['weight'] += 1\n",
        "            \n",
        "sorted_same_hour_group_all = sorted(G1.edges(data=True),key= lambda x: x[2]['weight'],reverse=True)"
      ],
      "metadata": {
        "id": "nbwiSQqeNVhU"
      },
      "execution_count": null,
      "outputs": []
    },
    {
      "cell_type": "code",
      "source": [
        "groups_all = []\n",
        "\n",
        "for node1 in G1.nodes():\n",
        "    node1_weight = G1.nodes[node1]['weight']\n",
        "    \n",
        "    if len(G1.edges(node1,data=True)) > 0:\n",
        "    \n",
        "        max_value = sorted(G1.edges(node1,data=True),key=lambda x: x[2]['weight'],reverse=True)[0][-1]\n",
        "        max_value = [int(value) for key, value in max_value.items()][0]\n",
        "    \n",
        "        if max_value > 1:\n",
        "            node2 = sorted(G1.edges(node1,data=True),key= lambda x: x[2]['weight'],reverse=True)[0][1]\n",
        "            node2_weight = G1.nodes[node2]['weight']\n",
        "    \n",
        "            group_weight = sorted(G1.edges(node1,data=True),key= lambda x: x[2]['weight'],reverse=True)[0][-1]\n",
        "            group_weight = [int(value) for key, value in group_weight.items()][0]\n",
        "    \n",
        "            node1_neighbor = []\n",
        "            node2_neighbor = []\n",
        "\n",
        "            for nbr in G1.neighbors(node1):\n",
        "                threshold_weight = 90/100* (node1_weight + node2_weight)\n",
        "                if G1.edges[node1, nbr]['weight'] > threshold_weight:\n",
        "                    if nbr != node2:\n",
        "                        node1_neighbor.append(nbr)\n",
        "\n",
        "            for nbr in G1.neighbors(node2):\n",
        "                threshold_weight = 90/100* (node1_weight + node2_weight)\n",
        "                if G1.edges[node2, nbr]['weight'] > threshold_weight: \n",
        "                    if nbr != node1:\n",
        "                        node2_neighbor.append(nbr)\n",
        "\n",
        "            group_neighbor = node1_neighbor+node2_neighbor\n",
        "            group_neighbor = list(set(group_neighbor))            \n",
        "\n",
        "            current_group = []\n",
        "            current_group.append(node1)\n",
        "            current_group.append(node2)\n",
        "            current_group += group_neighbor\n",
        "\n",
        "            if current_group not in groups_all:\n",
        "                groups_all.append(current_group)"
      ],
      "metadata": {
        "id": "yvWsHQEFNllL"
      },
      "execution_count": null,
      "outputs": []
    },
    {
      "cell_type": "code",
      "source": [
        "unique_groups_all = [list(x) for x in set(frozenset(i) for i in [set(i) for i in groups_all])]"
      ],
      "metadata": {
        "id": "jSpqiIr5OKDH"
      },
      "execution_count": null,
      "outputs": []
    },
    {
      "cell_type": "code",
      "source": [
        "len(unique_groups_all)"
      ],
      "metadata": {
        "id": "_0cQOzEdOeGr",
        "colab": {
          "base_uri": "https://localhost:8080/"
        },
        "outputId": "c8f786a5-e955-40e7-fbb4-47dd792e1351"
      },
      "execution_count": null,
      "outputs": [
        {
          "output_type": "execute_result",
          "data": {
            "text/plain": [
              "7507"
            ]
          },
          "metadata": {},
          "execution_count": 66
        }
      ]
    },
    {
      "cell_type": "code",
      "source": [
        "len_unique_groups = []\n",
        "\n",
        "for i in unique_groups_all:\n",
        "  a = len(i)\n",
        "  len_unique_groups.append(a)"
      ],
      "metadata": {
        "id": "qih52h5At1kw"
      },
      "execution_count": null,
      "outputs": []
    },
    {
      "cell_type": "code",
      "source": [
        "counter = collections.Counter(len_unique_groups)"
      ],
      "metadata": {
        "id": "_BFXvI-yt2dl"
      },
      "execution_count": null,
      "outputs": []
    },
    {
      "cell_type": "code",
      "source": [
        "print(counter)"
      ],
      "metadata": {
        "colab": {
          "base_uri": "https://localhost:8080/"
        },
        "id": "MmeU8SCWuskA",
        "outputId": "efbc1f34-251a-4673-d11a-6f4c141935d7"
      },
      "execution_count": null,
      "outputs": [
        {
          "output_type": "stream",
          "name": "stdout",
          "text": [
            "Counter({2: 6763, 3: 609, 4: 42, 5: 14, 6: 9, 7: 8, 10: 6, 9: 5, 8: 5, 16: 2, 11: 2, 14: 2, 23: 1, 13: 1, 12: 1, 24: 1})\n"
          ]
        }
      ]
    },
    {
      "cell_type": "code",
      "source": [
        ""
      ],
      "metadata": {
        "id": "YoJ_C0wausrx"
      },
      "execution_count": null,
      "outputs": []
    },
    {
      "cell_type": "code",
      "source": [
        ""
      ],
      "metadata": {
        "id": "rAyo5IEFb0z1"
      },
      "execution_count": null,
      "outputs": []
    },
    {
      "cell_type": "code",
      "source": [
        ""
      ],
      "metadata": {
        "id": "tF7uIraPb06l"
      },
      "execution_count": null,
      "outputs": []
    },
    {
      "cell_type": "code",
      "source": [
        "for id in wechat_id_set:\n",
        "  for group in unique_groups_all:\n",
        "    if id in group:\n",
        "      print(id, group)"
      ],
      "metadata": {
        "id": "HmKq6eBfxwbg"
      },
      "execution_count": null,
      "outputs": []
    },
    {
      "cell_type": "code",
      "source": [
        "for group in wechat_group:\n",
        "  group.dropna(inplace = True)"
      ],
      "metadata": {
        "colab": {
          "base_uri": "https://localhost:8080/"
        },
        "id": "xAh29eiiBLcv",
        "outputId": "41d83ff8-02a0-4501-df5f-0622e392de61"
      },
      "execution_count": null,
      "outputs": [
        {
          "output_type": "stream",
          "name": "stderr",
          "text": [
            "/usr/local/lib/python3.7/dist-packages/pandas/core/series.py:5258: SettingWithCopyWarning: \n",
            "A value is trying to be set on a copy of a slice from a DataFrame\n",
            "\n",
            "See the caveats in the documentation: https://pandas.pydata.org/pandas-docs/stable/user_guide/indexing.html#returning-a-view-versus-a-copy\n",
            "  self._update_inplace(result)\n"
          ]
        }
      ]
    },
    {
      "cell_type": "code",
      "source": [
        "wechat_group_list = [list(n) for n in wechat_group]"
      ],
      "metadata": {
        "id": "e3tU-Ra942Ft"
      },
      "execution_count": null,
      "outputs": []
    },
    {
      "cell_type": "code",
      "source": [
        "accuracy = {}\n",
        "for group in unique_groups_all:\n",
        "  similarity_count = []\n",
        "  set1 = set(group)\n",
        "  for group2 in wechat_group_list:\n",
        "    set2 = set(group2)\n",
        "    difference_set = set2.difference(set1)\n",
        "    similarity_count.append(1 - len(difference_set)/len(set2))\n",
        "  accuracy[str(group)] = [max(similarity_count), str(list(wechat_group[similarity_count.index(max(similarity_count))]))]"
      ],
      "metadata": {
        "id": "65vaYdQ39YpM"
      },
      "execution_count": null,
      "outputs": []
    },
    {
      "cell_type": "code",
      "source": [
        "for group in unique_groups_all:\n",
        "  if '276680' in group:\n",
        "    print(group)"
      ],
      "metadata": {
        "id": "w1V_BtBmw4xt",
        "colab": {
          "base_uri": "https://localhost:8080/"
        },
        "outputId": "3d8473b7-fcd1-4c73-a39d-9b82fa5cbac0"
      },
      "execution_count": null,
      "outputs": [
        {
          "output_type": "stream",
          "name": "stdout",
          "text": [
            "['276681', '276679', '276680', '277356']\n",
            "['276681', '276679', '276680']\n"
          ]
        }
      ]
    },
    {
      "cell_type": "code",
      "source": [
        "G1.edges['280491', '290727']['weight']"
      ],
      "metadata": {
        "colab": {
          "base_uri": "https://localhost:8080/"
        },
        "id": "JqsoJwezcoc9",
        "outputId": "fbdbfa29-b8c6-498a-e03f-5197abd73f5d"
      },
      "execution_count": null,
      "outputs": [
        {
          "output_type": "execute_result",
          "data": {
            "text/plain": [
              "2"
            ]
          },
          "metadata": {},
          "execution_count": 66
        }
      ]
    },
    {
      "cell_type": "code",
      "source": [
        "G1.nodes['265619']['weight']"
      ],
      "metadata": {
        "colab": {
          "base_uri": "https://localhost:8080/"
        },
        "id": "iIizDYuecosM",
        "outputId": "711462b3-1e81-4117-b544-a57a6ba5341b"
      },
      "execution_count": null,
      "outputs": [
        {
          "output_type": "execute_result",
          "data": {
            "text/plain": [
              "34"
            ]
          },
          "metadata": {},
          "execution_count": 72
        }
      ]
    },
    {
      "cell_type": "code",
      "source": [
        "for group in unique_groups_all:\n",
        "  if '47740' in group:\n",
        "    print(group)"
      ],
      "metadata": {
        "colab": {
          "base_uri": "https://localhost:8080/"
        },
        "id": "SzbFxg3kcoxq",
        "outputId": "2416ca23-b2ed-4ebb-a696-6a658897be4e"
      },
      "execution_count": null,
      "outputs": [
        {
          "output_type": "stream",
          "name": "stdout",
          "text": [
            "['47740', '275726']\n",
            "['47740', '58299']\n",
            "['47740', '267652']\n",
            "['47740', '249127']\n",
            "['47740', '269125']\n",
            "['47740', '287401']\n",
            "['47740', '255209']\n",
            "['47740', '279666']\n",
            "['47740', '280491']\n",
            "['47740', '290367']\n",
            "['47740', '265619']\n",
            "['47740', '268312']\n",
            "['47740', '71626']\n",
            "['47740', '283646']\n",
            "['47740', '284750']\n",
            "['47740', '43357']\n",
            "['47740', '270020']\n",
            "['47740', '274603']\n",
            "['267631', '47740']\n",
            "['47740', '274183']\n",
            "['47740', '270135']\n",
            "['47740', '269066']\n",
            "['273719', '47740']\n",
            "['47740', '287585']\n",
            "['47740', '282092']\n",
            "['263169', '47740']\n",
            "['47740', '265650']\n",
            "['47740', '56082']\n",
            "['47740', '56939']\n",
            "['47740', '268241']\n",
            "['47740', '51785']\n"
          ]
        }
      ]
    },
    {
      "cell_type": "code",
      "source": [
        "G1.edges['248016', '248018']['weight']"
      ],
      "metadata": {
        "colab": {
          "base_uri": "https://localhost:8080/"
        },
        "id": "kwc_2uClcozr",
        "outputId": "69b15aea-35f7-47e9-f771-21b2e076fb20"
      },
      "execution_count": null,
      "outputs": [
        {
          "output_type": "execute_result",
          "data": {
            "text/plain": [
              "9"
            ]
          },
          "metadata": {},
          "execution_count": 78
        }
      ]
    },
    {
      "cell_type": "code",
      "source": [
        "G1.nodes['248016']['weight']"
      ],
      "metadata": {
        "id": "xg5G5rGVw-TG",
        "colab": {
          "base_uri": "https://localhost:8080/"
        },
        "outputId": "d6a54781-f36c-4bda-9257-07be80f404a4"
      },
      "execution_count": null,
      "outputs": [
        {
          "output_type": "execute_result",
          "data": {
            "text/plain": [
              "12"
            ]
          },
          "metadata": {},
          "execution_count": 77
        }
      ]
    },
    {
      "cell_type": "code",
      "source": [
        ""
      ],
      "metadata": {
        "id": "Y8b7R0aOudMq"
      },
      "execution_count": null,
      "outputs": []
    },
    {
      "cell_type": "code",
      "source": [
        "accuracy"
      ],
      "metadata": {
        "id": "GwpI7RNs5OEG"
      },
      "execution_count": null,
      "outputs": []
    },
    {
      "cell_type": "code",
      "source": [
        "max(list(accuracy.values()))"
      ],
      "metadata": {
        "colab": {
          "base_uri": "https://localhost:8080/"
        },
        "id": "dDkVan7O-n3v",
        "outputId": "4950b872-b63d-4bb1-a819-e4e32b53e9be"
      },
      "execution_count": null,
      "outputs": [
        {
          "output_type": "execute_result",
          "data": {
            "text/plain": [
              "[0.0, '[259183.0, 53500.0]']"
            ]
          },
          "metadata": {},
          "execution_count": 32
        }
      ]
    },
    {
      "cell_type": "code",
      "source": [
        "difference_set3 = wechat_set.difference(set(map(tuple, unique_groups_all)))"
      ],
      "metadata": {
        "id": "_0xdQ9JCDAQv"
      },
      "execution_count": null,
      "outputs": []
    },
    {
      "cell_type": "code",
      "source": [
        "len(difference_set3)"
      ],
      "metadata": {
        "id": "RlQ_VZa-DKSy",
        "outputId": "4165430e-5cb3-4ff0-dc4b-9f06148329e5",
        "colab": {
          "base_uri": "https://localhost:8080/"
        }
      },
      "execution_count": null,
      "outputs": [
        {
          "output_type": "execute_result",
          "data": {
            "text/plain": [
              "568"
            ]
          },
          "metadata": {},
          "execution_count": 79
        }
      ]
    },
    {
      "cell_type": "code",
      "source": [
        "len(wechat_set)"
      ],
      "metadata": {
        "id": "yT10TvtaDPh5"
      },
      "execution_count": null,
      "outputs": []
    },
    {
      "cell_type": "code",
      "source": [
        "len(wechat_group)"
      ],
      "metadata": {
        "colab": {
          "base_uri": "https://localhost:8080/"
        },
        "id": "s14TPkiC9Co8",
        "outputId": "a3af47d6-6662-4b1c-c2d6-7dec210819d0"
      },
      "execution_count": null,
      "outputs": [
        {
          "output_type": "execute_result",
          "data": {
            "text/plain": [
              "568"
            ]
          },
          "metadata": {},
          "execution_count": 26
        }
      ]
    }
  ]
}